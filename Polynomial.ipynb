{
 "cells": [
  {
   "cell_type": "code",
   "execution_count": 2,
   "metadata": {
    "collapsed": false
   },
   "outputs": [],
   "source": [
    "from scipy.io import loadmat\n",
    "import h5py\n",
    "import numpy as np\n",
    "import matplotlib.pyplot as plt\n",
    "from sklearn.metrics import auc\n",
    "from sklearn.metrics import roc_curve\n",
    "from sklearn.metrics import roc_auc_score\n",
    "from sklearn import svm\n",
    "from sklearn.model_selection import train_test_split\n",
    "from sklearn.model_selection import cross_val_score\n",
    "\n",
    "\n",
    "%matplotlib inline"
   ]
  },
  {
   "cell_type": "code",
   "execution_count": 3,
   "metadata": {
    "collapsed": true
   },
   "outputs": [],
   "source": [
    "filelist = [\"calcium_data/140708B_140811a_result\", \n",
    "            \"calcium_data/140909C_141112a_result\", \n",
    "            \"calcium_data/141006C_141121a_result\",\n",
    "            \"calcium_data/150109A_150302a_result\", \n",
    "            \"calcium_data/151122A_160202a_result\", \n",
    "            \"calcium_data/151122B_160207a_result\", \n",
    "            \"calcium_data/160209A_160430a_result\", \n",
    "            \"calcium_data/160209B_160428a_result\"]\n",
    "filelist_roi = [\"calcium_data/140708B_140811a_roi\", \n",
    "            \"calcium_data/140909C_141112a_roi\", \n",
    "            \"calcium_data/141006C_141121a_roi\",\n",
    "            \"calcium_data/150109A_150302a_roi\", \n",
    "            \"calcium_data/151122A_160202a_roi\", \n",
    "            \"calcium_data/151122B_160207a_roi\", \n",
    "            \"calcium_data/160209A_160430a_roi\", \n",
    "            \"calcium_data/160209B_160428a_roi\"]"
   ]
  },
  {
   "cell_type": "code",
   "execution_count": 4,
   "metadata": {
    "collapsed": true
   },
   "outputs": [],
   "source": [
    "f = h5py.File(filelist[0]+'.hdf5', 'r')"
   ]
  },
  {
   "cell_type": "code",
   "execution_count": 5,
   "metadata": {
    "collapsed": true
   },
   "outputs": [],
   "source": [
    "def fit_polynomial(filename, deg=6, exclude_mask=None):\n",
    "    '''\n",
    "    returns: ndarray of shape (deg+1, n_trials, n_dendrites)\n",
    "    '''\n",
    "    f = h5py.File(filename+'.hdf5', 'r')\n",
    "    \n",
    "    data = f['data']\n",
    "    meta = f['meta']\n",
    "    \n",
    "    n_trials = data.shape[0]\n",
    "    n_dendrites = data.shape[1]\n",
    "    \n",
    "    if exclude_mask:\n",
    "        #remove unwanted trials\n",
    "        pass\n",
    "    \n",
    "    coef_mat = np.zeros((deg+1, n_trials, n_dendrites))\n",
    "    for i in range(n_trials):\n",
    "        x = np.arange(0,180)\n",
    "        y = data[i,:,:]\n",
    "\n",
    "        coef = np.polynomial.polynomial.polyfit(x,y.T,deg)\n",
    "        coef_mat[:, i, :] = coef\n",
    "        \n",
    "    return coef_mat"
   ]
  },
  {
   "cell_type": "code",
   "execution_count": 6,
   "metadata": {
    "collapsed": true
   },
   "outputs": [],
   "source": [
    "def get_poly_time(coef):\n",
    "    '''\n",
    "    returns: ndarray of shape (n_trials, n_dendrites, n_times)\n",
    "    '''\n",
    "    x = np.arange(0, 180)\n",
    "    p = np.polynomial.polynomial.polyval(x, coef)\n",
    "    \n",
    "    return p"
   ]
  },
  {
   "cell_type": "code",
   "execution_count": 7,
   "metadata": {
    "collapsed": true
   },
   "outputs": [],
   "source": [
    "def get_feature_matrix(coef):\n",
    "    '''\n",
    "    returns: ndarray of shape (n_trials, (n_coef*n_dendrites)), with every row being (p0_all_dends, ..., p_n_all_dends)\n",
    "    '''\n",
    "    n_coef = coef.shape[0]\n",
    "    n_trials = coef.shape[1]\n",
    "    n_dendrites = coef.shape[2]\n",
    "    \n",
    "    X = np.zeros((n_trials, n_dendrites*n_coef))\n",
    "    for i in range(n_trials):\n",
    "        mat = coef[:,i,:]\n",
    "        #print(mat.shape)\n",
    "        for j in range(n_dendrites):\n",
    "            #print(X[i, j*n_coef:(j+1)*n_coef].shape)\n",
    "            X[i, j*n_coef:(j+1)*n_coef] = mat[:,j]\n",
    "            \n",
    "    return X"
   ]
  },
  {
   "cell_type": "code",
   "execution_count": 8,
   "metadata": {
    "collapsed": true
   },
   "outputs": [],
   "source": [
    "def get_orig_matrix(X, deg):\n",
    "    n_trials = X.shape[0]\n",
    "    print(X.shape)\n",
    "    n_dendrites = X.shape[1]/(deg+1)\n",
    "    assert(n_dendrites%1 == 0)\n",
    "    n_dendrites = int(n_dendrites)\n",
    "    \n",
    "    data = np.zeros((deg+1, n_trials, n_dendrites))\n",
    "    for i in range(n_trials):\n",
    "        for j in range(n_dendrites):\n",
    "            data[:, i, j] = X[i,j*(deg+1):(j+1)*(deg+1)]\n",
    "    \n",
    "    return data"
   ]
  },
  {
   "cell_type": "code",
   "execution_count": 11,
   "metadata": {
    "collapsed": true
   },
   "outputs": [],
   "source": [
    "def get_f_matrix(coef):\n",
    "    n_coef = coef.shape[0]\n",
    "    n_trials = coef.shape[1]\n",
    "    n_dendrites = coef.shape[2]\n",
    "    \n",
    "    X = np.zeros((n_trials, n_dendrites*n_coef))\n",
    "    for i in range(n_trials):\n",
    "        for j in range(n_coef):\n",
    "            X[i, j*n_dendrites:(j+1)*n_dendrites] = coef[j, i, :]\n",
    "            \n",
    "    return X"
   ]
  },
  {
   "cell_type": "code",
   "execution_count": 10,
   "metadata": {
    "collapsed": false
   },
   "outputs": [],
   "source": [
    "coef = fit_polynomial(filelist[0])\n",
    "data = get_feature_matrix(coef)\n",
    "\n"
   ]
  },
  {
   "cell_type": "code",
   "execution_count": null,
   "metadata": {
    "collapsed": false
   },
   "outputs": [],
   "source": [
    "q=10\n",
    "r=12\n",
    "\n",
    "x = np.arange(0,180)\n",
    "\n",
    "y = f['data'][r,q,:]\n",
    "z = np.polyfit(x, y, 8)\n",
    "p = np.poly1d(z)\n",
    "p(x)"
   ]
  },
  {
   "cell_type": "code",
   "execution_count": 96,
   "metadata": {
    "collapsed": false
   },
   "outputs": [
    {
     "data": {
      "text/plain": [
       "[<matplotlib.lines.Line2D at 0x7f4269c9e748>]"
      ]
     },
     "execution_count": 96,
     "metadata": {},
     "output_type": "execute_result"
    },
    {
     "data": {
      "image/png": "[encoded data removed]",
      "text/plain": [
       "<matplotlib.figure.Figure at 0x7f4269d198d0>"
      ]
     },
     "metadata": {},
     "output_type": "display_data"
    }
   ],
   "source": [
    "plt.plot(x, f['data'][r,q,:])\n",
    "plt.axvline(58, color='r')\n",
    "plt.plot(x, p(x))"
   ]
  },
  {
   "cell_type": "code",
   "execution_count": 196,
   "metadata": {
    "collapsed": false
   },
   "outputs": [],
   "source": [
    "mask = f['meta'][:,1] == 3\n",
    "av = np.mean(f['data'][mask,:,:][:,0,:], axis=0)\n",
    "x = np.linspace(0,3000,180)"
   ]
  },
  {
   "cell_type": "code",
   "execution_count": 174,
   "metadata": {
    "collapsed": false
   },
   "outputs": [
    {
     "data": {
      "image/png": "[encoded data removed]",
      "text/plain": [
       "<matplotlib.figure.Figure at 0x7f7046a33240>"
      ]
     },
     "metadata": {},
     "output_type": "display_data"
    }
   ],
   "source": [
    "g = plt.figure()\n",
    "plt.plot(x, av)\n",
    "plt.xlabel('time[ms]')\n",
    "plt.ylabel('Ca2+ flourescence')\n",
    "g.savefig(filelist[0]+'_dendrite0_stim=3_trial_average', dpi=400)"
   ]
  },
  {
   "cell_type": "code",
   "execution_count": 5,
   "metadata": {
    "collapsed": false
   },
   "outputs": [],
   "source": [
    "data = loadmat(filelist_roi[0])"
   ]
  },
  {
   "cell_type": "code",
   "execution_count": 20,
   "metadata": {
    "collapsed": false
   },
   "outputs": [
    {
     "data": {
      "text/plain": [
       "array([[0],\n",
       "       [0],\n",
       "       [0],\n",
       "       [1],\n",
       "       [1],\n",
       "       [1],\n",
       "       [1],\n",
       "       [1],\n",
       "       [1],\n",
       "       [1],\n",
       "       [1],\n",
       "       [1],\n",
       "       [1],\n",
       "       [1],\n",
       "       [1],\n",
       "       [1],\n",
       "       [1],\n",
       "       [1],\n",
       "       [1],\n",
       "       [1],\n",
       "       [1],\n",
       "       [1],\n",
       "       [1],\n",
       "       [1],\n",
       "       [1],\n",
       "       [1],\n",
       "       [1],\n",
       "       [1],\n",
       "       [1],\n",
       "       [1],\n",
       "       [1],\n",
       "       [1],\n",
       "       [1],\n",
       "       [1],\n",
       "       [1],\n",
       "       [1],\n",
       "       [1],\n",
       "       [1],\n",
       "       [1],\n",
       "       [1],\n",
       "       [1],\n",
       "       [1],\n",
       "       [1],\n",
       "       [1],\n",
       "       [1],\n",
       "       [1],\n",
       "       [1],\n",
       "       [1],\n",
       "       [1],\n",
       "       [1],\n",
       "       [1],\n",
       "       [1],\n",
       "       [1],\n",
       "       [1],\n",
       "       [1],\n",
       "       [1],\n",
       "       [1],\n",
       "       [1],\n",
       "       [1],\n",
       "       [1],\n",
       "       [1],\n",
       "       [1],\n",
       "       [1],\n",
       "       [1],\n",
       "       [1],\n",
       "       [1],\n",
       "       [1],\n",
       "       [1],\n",
       "       [1],\n",
       "       [1],\n",
       "       [1],\n",
       "       [1],\n",
       "       [1],\n",
       "       [1],\n",
       "       [1],\n",
       "       [1],\n",
       "       [1],\n",
       "       [1],\n",
       "       [1],\n",
       "       [1],\n",
       "       [1],\n",
       "       [1],\n",
       "       [1],\n",
       "       [1],\n",
       "       [1],\n",
       "       [1],\n",
       "       [1],\n",
       "       [1],\n",
       "       [1],\n",
       "       [1],\n",
       "       [1],\n",
       "       [1],\n",
       "       [1],\n",
       "       [1],\n",
       "       [1],\n",
       "       [1],\n",
       "       [1],\n",
       "       [1],\n",
       "       [1],\n",
       "       [1],\n",
       "       [1],\n",
       "       [1],\n",
       "       [1],\n",
       "       [1],\n",
       "       [1],\n",
       "       [1],\n",
       "       [1],\n",
       "       [1],\n",
       "       [1],\n",
       "       [1],\n",
       "       [0],\n",
       "       [1],\n",
       "       [0],\n",
       "       [1],\n",
       "       [0]], dtype=uint8)"
      ]
     },
     "execution_count": 20,
     "metadata": {},
     "output_type": "execute_result"
    }
   ],
   "source": [
    "data['inFrameDend']"
   ]
  },
  {
   "cell_type": "code",
   "execution_count": 10,
   "metadata": {
    "collapsed": false
   },
   "outputs": [
    {
     "data": {
      "text/plain": [
       "(350, 115, 180)"
      ]
     },
     "execution_count": 10,
     "metadata": {},
     "output_type": "execute_result"
    }
   ],
   "source": [
    "f['data'].shape"
   ]
  },
  {
   "cell_type": "code",
   "execution_count": 17,
   "metadata": {
    "collapsed": false
   },
   "outputs": [
    {
     "data": {
      "text/plain": [
       "dict_keys(['__header__', '__version__', '__globals__', 'roi', 'driftMap', 'roi_stay', 'dend', 'inFrameDend'])"
      ]
     },
     "execution_count": 17,
     "metadata": {},
     "output_type": "execute_result"
    }
   ],
   "source": [
    "data.keys()"
   ]
  },
  {
   "cell_type": "code",
   "execution_count": null,
   "metadata": {
    "collapsed": true
   },
   "outputs": [],
   "source": []
  }
 ],
 "metadata": {
  "kernelspec": {
   "display_name": "Python 3",
   "language": "python",
   "name": "python3"
  },
  "language_info": {
   "codemirror_mode": {
    "name": "ipython",
    "version": 3
   },
   "file_extension": ".py",
   "mimetype": "text/x-python",
   "name": "python",
   "nbconvert_exporter": "python",
   "pygments_lexer": "ipython3",
   "version": "3.6.0"
  }
 },
 "nbformat": 4,
 "nbformat_minor": 2
}
