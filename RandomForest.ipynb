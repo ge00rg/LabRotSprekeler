{
 "cells": [
  {
   "cell_type": "code",
   "execution_count": 1,
   "metadata": {
    "collapsed": true
   },
   "outputs": [],
   "source": [
    "from scipy.io import loadmat\n",
    "import h5py\n",
    "import numpy as np\n",
    "import matplotlib.pyplot as plt\n",
    "from sklearn.metrics import auc\n",
    "from sklearn.metrics import roc_curve\n",
    "from sklearn.metrics import roc_auc_score\n",
    "from sklearn import svm\n",
    "from sklearn.model_selection import train_test_split\n",
    "from sklearn.model_selection import cross_val_score\n",
    "from sklearn.ensemble import RandomForestClassifier\n",
    "\n",
    "%matplotlib inline"
   ]
  },
  {
   "cell_type": "code",
   "execution_count": 2,
   "metadata": {
    "collapsed": true
   },
   "outputs": [],
   "source": [
    "filelist = [\"calcium_data/140708B_140811a_result\", \n",
    "            \"calcium_data/140909C_141112a_result\", \n",
    "            \"calcium_data/141006C_141121a_result\",\n",
    "            \"calcium_data/150109A_150302a_result\", \n",
    "            \"calcium_data/151122A_160202a_result\", \n",
    "            \"calcium_data/151122B_160207a_result\", \n",
    "            \"calcium_data/160209A_160430a_result\", \n",
    "            \"calcium_data/160209B_160428a_result\"]"
   ]
  },
  {
   "cell_type": "code",
   "execution_count": 22,
   "metadata": {
    "collapsed": true
   },
   "outputs": [],
   "source": [
    "filename = filelist[0]\n",
    "\n",
    "f = h5py.File(filename+\".hdf5\", \"r\")\n",
    "stims = np.unique(f['meta'][:,1])[1:]        #exclude zero\n",
    "test_size = 0.33\n",
    "svm_kernel = 'linear'\n",
    "baseav = False\n",
    "\n",
    "sc = []\n",
    "for amp in stims:\n",
    "    #average delta F\n",
    "    #1s = 58 frames\n",
    "    data = f['data']\n",
    "    meta = f['meta']\n",
    "\n",
    "    baseline = np.mean(data[:,:,:58], axis=2).reshape(data.shape[0], data.shape[1], 1)\n",
    "    if baseav == True:\n",
    "        baseline = np.mean(baseline, axis=0)\n",
    "\n",
    "    mn_dnd_chng = np.mean(data[:,:,58:116]-baseline, axis=2)\n",
    "\n",
    "    present_mask = meta[:,1]==amp\n",
    "    absent_mask = meta[:,1]==0\n",
    "\n",
    "    trials_mask = np.logical_or(present_mask, absent_mask)\n",
    "\n",
    "    y_score = mn_dnd_chng[trials_mask, :]\n",
    "\n",
    "    amp_mask = meta[:,1][trials_mask]==amp\n",
    "    y_true = (amp_mask-0.5)*2\n",
    "\n",
    "    n_dendrites = h5py.File(filename+\".hdf5\", \"r\")['data'].shape[1]\n",
    "\n",
    "    clf = RandomForestClassifier(n_estimators=50)\n",
    "    scores = cross_val_score(clf, y_score, y_true.reshape(y_true.shape[0]), cv=10)\n",
    "    sc.append(scores)"
   ]
  },
  {
   "cell_type": "code",
   "execution_count": 23,
   "metadata": {
    "collapsed": false
   },
   "outputs": [
    {
     "name": "stdout",
     "output_type": "stream",
     "text": [
      "For stimApm  0.50: accuracy:  0.61 (+/-  0.33)\n",
      "For stimApm  1.00: accuracy:  0.65 (+/-  0.26)\n",
      "For stimApm  1.50: accuracy:  0.79 (+/-  0.14)\n",
      "For stimApm  2.00: accuracy:  0.80 (+/-  0.18)\n",
      "For stimApm  2.50: accuracy:  0.86 (+/-  0.22)\n",
      "For stimApm  3.00: accuracy:  0.90 (+/-  0.24)\n"
     ]
    }
   ],
   "source": [
    "for k, scores in enumerate(sc):\n",
    "    print(\"For stimApm {0: .2f}: accuracy: {1: .2f} (+/- {2: .2f})\".format(stims[k], np.mean(scores), 2*np.std(scores)))"
   ]
  },
  {
   "cell_type": "code",
   "execution_count": 24,
   "metadata": {
    "collapsed": false
   },
   "outputs": [
    {
     "data": {
      "text/plain": [
       "<Container object of 3 artists>"
      ]
     },
     "execution_count": 24,
     "metadata": {},
     "output_type": "execute_result"
    },
    {
     "data": {
      "image/png": "[encoded data removed]",
      "text/plain": [
       "<matplotlib.figure.Figure at 0x7f72d0007f98>"
      ]
     },
     "metadata": {},
     "output_type": "display_data"
    }
   ],
   "source": [
    "sc = np.array(sc)\n",
    "means = np.mean(sc, axis=1)\n",
    "std = np.std(sc, axis=1)\n",
    "\n",
    "plt.errorbar(stims, means, yerr=std, fmt='--o')"
   ]
  },
  {
   "cell_type": "code",
   "execution_count": 19,
   "metadata": {
    "collapsed": true
   },
   "outputs": [],
   "source": [
    "filename = filelist[1]\n",
    "\n",
    "f = h5py.File(filename+\".hdf5\", \"r\")\n",
    "stims = np.unique(f['meta'][:,1])[1:]        #exclude zero\n",
    "test_size = 0.33\n",
    "svm_kernel = 'linear'\n",
    "baseav = False\n",
    "\n",
    "sc = []\n",
    "bals = []\n",
    "ns = []\n",
    "for amp in stims:\n",
    "    #average delta F\n",
    "    #1s = 58 frames\n",
    "    data = f['data']\n",
    "    meta = f['meta']\n",
    "\n",
    "    baseline = np.mean(data[:,:,:58], axis=2).reshape(data.shape[0], data.shape[1], 1)\n",
    "    if baseav == True:\n",
    "        baseline = np.mean(baseline, axis=0)\n",
    "\n",
    "    mn_dnd_chng = np.mean(data[:,:,58:116]-baseline, axis=2)\n",
    "\n",
    "    present_mask = meta[:,1]==amp\n",
    "    #absent_mask = meta[:,1]==0\n",
    "\n",
    "    #trials_mask = np.logical_or(present_mask, absent_mask)\n",
    "    trials_mask = present_mask\n",
    "    \n",
    "    y_score = mn_dnd_chng[trials_mask, :]\n",
    "\n",
    "    hit_mask = meta[:, 2]==1\n",
    "    \n",
    "    #print(data[trials_mask])\n",
    "    \n",
    "    end_mask = hit_mask[trials_mask]\n",
    "    y_true = (end_mask-0.5)*2\n",
    "    \n",
    "    balance = np.sum(end_mask)/end_mask.shape[0]\n",
    "    n_y = end_mask.shape[0]\n",
    "    \n",
    "    bals.append(balance)\n",
    "    ns.append(n_y)\n",
    "\n",
    "    n_dendrites = h5py.File(filename+\".hdf5\", \"r\")['data'].shape[1]\n",
    "\n",
    "    clf = RandomForestClassifier(n_estimators=50, class_weight='balanced')\n",
    "    scores = cross_val_score(clf, y_score, y_true.reshape(y_true.shape[0]), cv=4)\n",
    "    sc.append(scores)"
   ]
  },
  {
   "cell_type": "code",
   "execution_count": 20,
   "metadata": {
    "collapsed": false
   },
   "outputs": [
    {
     "name": "stdout",
     "output_type": "stream",
     "text": [
      "For stimApm  0.33: accuracy:  0.94 (+/-  0.14)\n",
      "For stimApm  0.67: accuracy:  0.91 (+/-  0.01)\n",
      "For stimApm  1.00: accuracy:  0.85 (+/-  0.13)\n",
      "For stimApm  1.33: accuracy:  0.71 (+/-  0.47)\n",
      "For stimApm  1.67: accuracy:  0.89 (+/-  0.07)\n",
      "For stimApm  2.00: accuracy:  0.87 (+/-  0.07)\n"
     ]
    }
   ],
   "source": [
    "for k, scores in enumerate(sc):\n",
    "    print(\"For stimApm {0: .2f}: accuracy: {1: .2f} (+/- {2: .2f})\".format(stims[k], np.mean(scores), 2*np.std(scores)))"
   ]
  },
  {
   "cell_type": "code",
   "execution_count": 17,
   "metadata": {
    "collapsed": false
   },
   "outputs": [
    {
     "data": {
      "text/plain": [
       "<matplotlib.legend.Legend at 0x7f72d0170da0>"
      ]
     },
     "execution_count": 17,
     "metadata": {},
     "output_type": "execute_result"
    },
    {
     "data": {
      "image/png": "[encoded data removed]",
      "text/plain": [
       "<matplotlib.figure.Figure at 0x7f72d34e82e8>"
      ]
     },
     "metadata": {},
     "output_type": "display_data"
    }
   ],
   "source": [
    "sc = np.array(sc)\n",
    "means = np.mean(sc, axis=1)\n",
    "std = np.std(sc, axis=1)\n",
    "\n",
    "plt.errorbar(stims, means, yerr=std, fmt='--o', label='performance')\n",
    "plt.errorbar(stims, bals, fmt='--o', label='fraction of pos. labels')\n",
    "plt.legend(frameon=False)"
   ]
  },
  {
   "cell_type": "code",
   "execution_count": null,
   "metadata": {
    "collapsed": true
   },
   "outputs": [],
   "source": []
  }
 ],
 "metadata": {
  "kernelspec": {
   "display_name": "Python 3",
   "language": "python",
   "name": "python3"
  },
  "language_info": {
   "codemirror_mode": {
    "name": "ipython",
    "version": 3
   },
   "file_extension": ".py",
   "mimetype": "text/x-python",
   "name": "python",
   "nbconvert_exporter": "python",
   "pygments_lexer": "ipython3",
   "version": "3.6.0"
  }
 },
 "nbformat": 4,
 "nbformat_minor": 2
}
