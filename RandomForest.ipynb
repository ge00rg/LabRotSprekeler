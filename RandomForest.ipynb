{
 "cells": [
  {
   "cell_type": "code",
   "execution_count": 1,
   "metadata": {
    "collapsed": true
   },
   "outputs": [],
   "source": [
    "from scipy.io import loadmat\n",
    "import h5py\n",
    "import numpy as np\n",
    "import matplotlib.pyplot as plt\n",
    "from sklearn.metrics import auc\n",
    "from sklearn.metrics import roc_curve\n",
    "from sklearn.metrics import roc_auc_score\n",
    "from sklearn import svm\n",
    "from sklearn.model_selection import train_test_split\n",
    "from sklearn.model_selection import cross_val_score\n",
    "from sklearn.ensemble import RandomForestClassifier\n",
    "\n",
    "import polynomial as poly\n",
    "\n",
    "%matplotlib inline"
   ]
  },
  {
   "cell_type": "code",
   "execution_count": 2,
   "metadata": {
    "collapsed": true
   },
   "outputs": [],
   "source": [
    "filelist = [\"calcium_data/140708B_140811a_result\", \n",
    "            \"calcium_data/140909C_141112a_result\", \n",
    "            \"calcium_data/141006C_141121a_result\",\n",
    "            \"calcium_data/150109A_150302a_result\", \n",
    "            \"calcium_data/151122A_160202a_result\", \n",
    "            \"calcium_data/151122B_160207a_result\", \n",
    "            \"calcium_data/160209A_160430a_result\", \n",
    "            \"calcium_data/160209B_160428a_result\"]"
   ]
  },
  {
   "cell_type": "code",
   "execution_count": 21,
   "metadata": {
    "collapsed": false
   },
   "outputs": [],
   "source": [
    "filename = filelist[1]\n",
    "\n",
    "mask = h5py.File('mask', 'r')['1_3'][:]\n",
    "\n",
    "f = h5py.File(filename+\".hdf5\", \"r\")\n",
    "stims = np.unique(f['meta'][:,1])[1:]        #exclude zero\n",
    "baseav = False\n",
    "\n",
    "sc = []\n",
    "for amp in stims:\n",
    "    #average delta F\n",
    "    #1s = 58 frames\n",
    "    data = f['data']\n",
    "    meta = f['meta']\n",
    "    g = h5py.File(filename[:-6]+\"roi.hdf5\", \"r\")\n",
    "    motion_mask = (g['inFrameDend'][:].astype(bool)).reshape(g['inFrameDend'].shape[0])\n",
    "    motion_mask = np.logical_and(motion_mask, mask)\n",
    "    \n",
    "    stims = np.unique(meta[:,1])[1:]        #exclude zero\n",
    "\n",
    "    baseline = np.mean(data[:,motion_mask,:58], axis=2).reshape(data.shape[0], data[:,motion_mask,:].shape[1], 1)\n",
    "    #if baseav == True:\n",
    "    #    baseline = np.mean(baseline, axis=0)\n",
    "\n",
    "    mn_dnd_chng = np.mean(data[:,motion_mask,58:116]-baseline, axis=2)\n",
    "\n",
    "    present_mask = meta[:,1]==amp\n",
    "    absent_mask = meta[:,1]==0\n",
    "\n",
    "    trials_mask = np.logical_or(present_mask, absent_mask)\n",
    "\n",
    "    #y_score = np.transpose(coefs[:, trials_mask, :], axes=[1,2,0])\n",
    "    #y_score = y_score.reshape(y_score.shape[0], -1)\n",
    "    y_score = mn_dnd_chng[trials_mask, :]\n",
    "\n",
    "    amp_mask = meta[:,1][trials_mask]==amp\n",
    "    y_true = (amp_mask-0.5)*2\n",
    "\n",
    "    #n_dendrites = h5py.File(filename+\".hdf5\", \"r\")['data'].shape[1]\n",
    "\n",
    "    clf = RandomForestClassifier(n_estimators=500)\n",
    "    scores = cross_val_score(clf, y_score, y_true.reshape(y_true.shape[0]), cv=10)\n",
    "    sc.append(scores)"
   ]
  },
  {
   "cell_type": "code",
   "execution_count": 22,
   "metadata": {
    "collapsed": false
   },
   "outputs": [
    {
     "name": "stdout",
     "output_type": "stream",
     "text": [
      "For stimApm  0.33: accuracy:  0.60 (+/-  0.32)\n",
      "For stimApm  0.67: accuracy:  0.49 (+/-  0.39)\n",
      "For stimApm  1.00: accuracy:  0.58 (+/-  0.44)\n",
      "For stimApm  1.33: accuracy:  0.50 (+/-  0.35)\n",
      "For stimApm  1.67: accuracy:  0.61 (+/-  0.27)\n",
      "For stimApm  2.00: accuracy:  0.63 (+/-  0.13)\n"
     ]
    }
   ],
   "source": [
    "for k, scores in enumerate(sc):\n",
    "    print(\"For stimApm {0: .2f}: accuracy: {1: .2f} (+/- {2: .2f})\".format(stims[k], np.mean(scores), 2*np.std(scores)))"
   ]
  },
  {
   "cell_type": "code",
   "execution_count": 17,
   "metadata": {
    "collapsed": false
   },
   "outputs": [
    {
     "data": {
      "text/plain": [
       "<Container object of 3 artists>"
      ]
     },
     "execution_count": 17,
     "metadata": {},
     "output_type": "execute_result"
    },
    {
     "data": {
      "image/png": "[encoded data removed]",
      "text/plain": [
       "<matplotlib.figure.Figure at 0x7facf291c358>"
      ]
     },
     "metadata": {},
     "output_type": "display_data"
    }
   ],
   "source": [
    "sc = np.array(sc)\n",
    "means = np.mean(sc, axis=1)\n",
    "std = np.std(sc, axis=1)\n",
    "\n",
    "plt.errorbar(stims, means, yerr=std, fmt='--o')"
   ]
  },
  {
   "cell_type": "code",
   "execution_count": 19,
   "metadata": {
    "collapsed": true
   },
   "outputs": [],
   "source": [
    "filename = filelist[1]\n",
    "\n",
    "f = h5py.File(filename+\".hdf5\", \"r\")\n",
    "stims = np.unique(f['meta'][:,1])[1:]        #exclude zero\n",
    "test_size = 0.33\n",
    "svm_kernel = 'linear'\n",
    "baseav = False\n",
    "\n",
    "sc = []\n",
    "bals = []\n",
    "ns = []\n",
    "for amp in stims:\n",
    "    #average delta F\n",
    "    #1s = 58 frames\n",
    "    data = f['data']\n",
    "    meta = f['meta']\n",
    "\n",
    "    baseline = np.mean(data[:,:,:58], axis=2).reshape(data.shape[0], data.shape[1], 1)\n",
    "    if baseav == True:\n",
    "        baseline = np.mean(baseline, axis=0)\n",
    "\n",
    "    mn_dnd_chng = np.mean(data[:,:,58:116]-baseline, axis=2)\n",
    "\n",
    "    present_mask = meta[:,1]==amp\n",
    "    #absent_mask = meta[:,1]==0\n",
    "\n",
    "    #trials_mask = np.logical_or(present_mask, absent_mask)\n",
    "    trials_mask = present_mask\n",
    "    \n",
    "    y_score = mn_dnd_chng[trials_mask, :]\n",
    "\n",
    "    hit_mask = meta[:, 2]==1\n",
    "    \n",
    "    #print(data[trials_mask])\n",
    "    \n",
    "    end_mask = hit_mask[trials_mask]\n",
    "    y_true = (end_mask-0.5)*2\n",
    "    \n",
    "    balance = np.sum(end_mask)/end_mask.shape[0]\n",
    "    n_y = end_mask.shape[0]\n",
    "    \n",
    "    bals.append(balance)\n",
    "    ns.append(n_y)\n",
    "\n",
    "    n_dendrites = h5py.File(filename+\".hdf5\", \"r\")['data'].shape[1]\n",
    "\n",
    "    clf = RandomForestClassifier(n_estimators=50, class_weight='balanced')\n",
    "    scores = cross_val_score(clf, y_score, y_true.reshape(y_true.shape[0]), cv=4)\n",
    "    sc.append(scores)"
   ]
  },
  {
   "cell_type": "code",
   "execution_count": 20,
   "metadata": {
    "collapsed": false
   },
   "outputs": [
    {
     "name": "stdout",
     "output_type": "stream",
     "text": [
      "For stimApm  0.33: accuracy:  0.94 (+/-  0.14)\n",
      "For stimApm  0.67: accuracy:  0.91 (+/-  0.01)\n",
      "For stimApm  1.00: accuracy:  0.85 (+/-  0.13)\n",
      "For stimApm  1.33: accuracy:  0.71 (+/-  0.47)\n",
      "For stimApm  1.67: accuracy:  0.89 (+/-  0.07)\n",
      "For stimApm  2.00: accuracy:  0.87 (+/-  0.07)\n"
     ]
    }
   ],
   "source": [
    "for k, scores in enumerate(sc):\n",
    "    print(\"For stimApm {0: .2f}: accuracy: {1: .2f} (+/- {2: .2f})\".format(stims[k], np.mean(scores), 2*np.std(scores)))"
   ]
  },
  {
   "cell_type": "code",
   "execution_count": 17,
   "metadata": {
    "collapsed": false
   },
   "outputs": [
    {
     "data": {
      "text/plain": [
       "<matplotlib.legend.Legend at 0x7f72d0170da0>"
      ]
     },
     "execution_count": 17,
     "metadata": {},
     "output_type": "execute_result"
    },
    {
     "data": {
      "image/png": "[encoded data removed]",
      "text/plain": [
       "<matplotlib.figure.Figure at 0x7f72d34e82e8>"
      ]
     },
     "metadata": {},
     "output_type": "display_data"
    }
   ],
   "source": [
    "sc = np.array(sc)\n",
    "means = np.mean(sc, axis=1)\n",
    "std = np.std(sc, axis=1)\n",
    "\n",
    "plt.errorbar(stims, means, yerr=std, fmt='--o', label='performance')\n",
    "plt.errorbar(stims, bals, fmt='--o', label='fraction of pos. labels')\n",
    "plt.legend(frameon=False)"
   ]
  },
  {
   "cell_type": "code",
   "execution_count": null,
   "metadata": {
    "collapsed": true
   },
   "outputs": [],
   "source": []
  }
 ],
 "metadata": {
  "kernelspec": {
   "display_name": "Python [default]",
   "language": "python",
   "name": "python3"
  },
  "language_info": {
   "codemirror_mode": {
    "name": "ipython",
    "version": 3
   },
   "file_extension": ".py",
   "mimetype": "text/x-python",
   "name": "python",
   "nbconvert_exporter": "python",
   "pygments_lexer": "ipython3",
   "version": "3.5.2"
  }
 },
 "nbformat": 4,
 "nbformat_minor": 2
}
