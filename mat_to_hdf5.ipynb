{
 "cells": [
  {
   "cell_type": "code",
   "execution_count": 1,
   "metadata": {
    "collapsed": false
   },
   "outputs": [],
   "source": [
    "from scipy.io import loadmat\n",
    "import matplotlib.pyplot as plt\n",
    "import h5py\n",
    "import numpy as np\n",
    "\n",
    "%matplotlib inline"
   ]
  },
  {
   "cell_type": "markdown",
   "metadata": {},
   "source": [
    "data['trial'][0] to access data\n",
    "data['trial'][0].shape = 350  - these are the trials\n",
    "\n",
    "In one trial:\n",
    "data['trial'][0][x][0] - one number (60-68), session\n",
    "\n",
    "data['trial'][0][x][1] - one number, stimAmp\n",
    "\n",
    "data['trial'][0][x][2] - 'hit' or 'miss', response\n",
    "\n",
    "data['trial'][0][x][3] - lick times\n",
    "\n",
    "data['trial'][0][x][4] - (180,115) time*ca2+"
   ]
  },
  {
   "cell_type": "code",
   "execution_count": 2,
   "metadata": {
    "collapsed": false
   },
   "outputs": [],
   "source": [
    "def mat_to_h5py(filename, roi=False):\n",
    "    print('Converting '+filename)\n",
    "    data = loadmat(filename)\n",
    "    f = h5py.File(filename+\".hdf5\", \"w\")\n",
    "    if roi==False:\n",
    "        n_trials = data['trial'][0].shape[0]\n",
    "        experiment_number = data['trial'][0][0][0].shape[0]\n",
    "        stim_strength = data['trial'][0][0][1].shape[0]\n",
    "        hit_miss = data['trial'][0][0][2].shape[0]\n",
    "        \n",
    "        lick_times = 0                     #extract maximum number of lick times\n",
    "        for i in range(n_trials):\n",
    "            if data['trial'][0][i][3].shape[1] > lick_times:\n",
    "                lick_times = data['trial'][0][i][3].shape[1]\n",
    "        \n",
    "        #print(lick_times)\n",
    "        \n",
    "        n_dendrites = data['trial'][0][0][4].shape[1]\n",
    "        times = data['trial'][0][0][4].shape[0]\n",
    "        \n",
    "        print(n_dendrites, times)\n",
    "        \n",
    "        f.create_dataset(\"meta\", (n_trials, experiment_number + stim_strength + hit_miss))\n",
    "        if lick_times != 0:\n",
    "            f.create_dataset(\"licktimes\", (n_trials, lick_times)) # problem here\n",
    "            f['licktimes'][:] = np.ones((n_trials, lick_times))*(-1)\n",
    "        f.create_dataset(\"data\", (n_trials, n_dendrites, times), dtype='float64')\n",
    "        \n",
    "        meta = np.zeros((n_trials, experiment_number + stim_strength + hit_miss))\n",
    "        for i in range(n_trials):\n",
    "            meta[i][0] = data['trial'][0][i][0][0][0] #experiment number\n",
    "            meta[i][1] = data['trial'][0][i][1][0][0] #stim_strength\n",
    "            if data['trial'][0][i][2][0]=='hit':\n",
    "                meta[i][2] = 1    #hit/miss\n",
    "            else:\n",
    "                meta[i][2] = 0\n",
    "        \n",
    "        for i in range(n_trials):\n",
    "            #f[\"meta\"][i] = data['trial'][0][i][0][0][0]\n",
    "            f['data'][i] = data['trial'][0][i][4].T\n",
    "            #f['meta'][i][0] = data['trial'][0][i][0][0][0] #experiment number\n",
    "            #f['meta'][i][1] = data['trial'][0][i][1][0][0] #stim_strength\n",
    "            try:\n",
    "                f['licktimes'][i,:data['trial'][0][i][3][0].shape[0]] = data['trial'][0][i][3][0]\n",
    "            except IndexError:\n",
    "                pass\n",
    "        \n",
    "        f['meta'][:] = meta"
   ]
  },
  {
   "cell_type": "code",
   "execution_count": 3,
   "metadata": {
    "collapsed": true
   },
   "outputs": [],
   "source": [
    "filelist = [\"calcium_data/140708B_140811a_result\", \n",
    "            \"calcium_data/140909C_141112a_result\", \n",
    "            \"calcium_data/141006C_141121a_result\",\n",
    "            \"calcium_data/150109A_150302a_result\", \n",
    "            \"calcium_data/151122A_160202a_result\", \n",
    "            \"calcium_data/151122B_160207a_result\", \n",
    "            \"calcium_data/160209A_160430a_result\", \n",
    "            \"calcium_data/160209B_160428a_result\"]"
   ]
  },
  {
   "cell_type": "code",
   "execution_count": 4,
   "metadata": {
    "collapsed": false
   },
   "outputs": [
    {
     "name": "stdout",
     "output_type": "stream",
     "text": [
      "Converting calcium_data/140708B_140811a_result\n",
      "115 180\n",
      "Converting calcium_data/140909C_141112a_result\n",
      "101 180\n",
      "Converting calcium_data/141006C_141121a_result\n",
      "99 180\n",
      "Converting calcium_data/150109A_150302a_result\n",
      "84 180\n",
      "Converting calcium_data/151122A_160202a_result\n",
      "123 180\n",
      "Converting calcium_data/151122B_160207a_result\n",
      "135 180\n",
      "Converting calcium_data/160209A_160430a_result\n",
      "86 180\n",
      "Converting calcium_data/160209B_160428a_result\n",
      "91 180\n"
     ]
    }
   ],
   "source": [
    "for filename in filelist:\n",
    "    mat_to_h5py(filename)"
   ]
  },
  {
   "cell_type": "code",
   "execution_count": 4,
   "metadata": {
    "collapsed": true
   },
   "outputs": [],
   "source": [
    "filelist_roi = [\"calcium_data/140708B_140811a_roi\", \n",
    "            \"calcium_data/140909C_141112a_roi\", \n",
    "            \"calcium_data/141006C_141121a_roi\",\n",
    "            \"calcium_data/150109A_150302a_roi\", \n",
    "            \"calcium_data/151122A_160202a_roi\", \n",
    "            \"calcium_data/151122B_160207a_roi\", \n",
    "            \"calcium_data/160209A_160430a_roi\", \n",
    "            \"calcium_data/160209B_160428a_roi\"]"
   ]
  },
  {
   "cell_type": "code",
   "execution_count": 5,
   "metadata": {
    "collapsed": true
   },
   "outputs": [],
   "source": [
    "def convert_roi(filename):\n",
    "    print('Converting '+filename)\n",
    "    data = loadmat(filename)\n",
    "    f = h5py.File(filename+\".hdf5\", \"w\")\n",
    "    \n",
    "    roi = data['roi']\n",
    "    driftMap = data['driftMap']\n",
    "    roi_stay = data['roi_stay']\n",
    "    inFrameDend = data['inFrameDend']\n",
    "    \n",
    "    f['roi'] = roi\n",
    "    f['dirftMap'] = driftMap\n",
    "    f['roi_stay'] = roi_stay\n",
    "    f['inFrameDend'] = inFrameDend\n",
    "    \n",
    "    n_dendrites = data['dend'].shape[1]\n",
    "    \n",
    "    max_pix = 0\n",
    "    for i in range(n_dendrites):\n",
    "        pix = data['dend'][0][i][0].shape[0]\n",
    "        if pix > max_pix:\n",
    "            max_pix = pix\n",
    "    dend = np.empty((n_dendrites, max_pix, 2))\n",
    "    dend[:] = np.NAN\n",
    "    for i in range(n_dendrites):\n",
    "        lim = data['dend'][0][i][0].shape[0]\n",
    "        dend[i,:lim,:] = data['dend'][0][i][0]\n",
    "    f['dend'] = dend"
   ]
  },
  {
   "cell_type": "code",
   "execution_count": 6,
   "metadata": {
    "collapsed": false
   },
   "outputs": [
    {
     "name": "stdout",
     "output_type": "stream",
     "text": [
      "Converting calcium_data/140708B_140811a_roi\n",
      "107\n",
      "Converting calcium_data/140909C_141112a_roi\n",
      "87\n",
      "Converting calcium_data/141006C_141121a_roi\n",
      "84\n",
      "Converting calcium_data/150109A_150302a_roi\n",
      "48\n",
      "Converting calcium_data/151122A_160202a_roi\n",
      "75\n",
      "Converting calcium_data/151122B_160207a_roi\n",
      "77\n",
      "Converting calcium_data/160209A_160430a_roi\n",
      "67\n",
      "Converting calcium_data/160209B_160428a_roi\n",
      "83\n"
     ]
    }
   ],
   "source": [
    "for i in range(8):\n",
    "    convert_roi(filelist_roi[i])"
   ]
  },
  {
   "cell_type": "code",
   "execution_count": 13,
   "metadata": {
    "collapsed": false
   },
   "outputs": [
    {
     "data": {
      "text/plain": [
       "<HDF5 dataset \"dend\": shape (115, 107, 2), type \"<f8\">"
      ]
     },
     "execution_count": 13,
     "metadata": {},
     "output_type": "execute_result"
    }
   ],
   "source": [
    "f = h5py.File(filelist_roi[0]+'.hdf5', 'r')\n",
    "f['dend']"
   ]
  },
  {
   "cell_type": "code",
   "execution_count": 29,
   "metadata": {
    "collapsed": false
   },
   "outputs": [
    {
     "data": {
      "text/plain": [
       "(115, 1)"
      ]
     },
     "execution_count": 29,
     "metadata": {},
     "output_type": "execute_result"
    }
   ],
   "source": [
    "f = h5py.File(filelist_roi[0]+'.hdf5', 'r')\n",
    "f['inFrameDend'].shape"
   ]
  },
  {
   "cell_type": "code",
   "execution_count": 28,
   "metadata": {
    "collapsed": false
   },
   "outputs": [
    {
     "data": {
      "text/plain": [
       "array([[False],\n",
       "       [False],\n",
       "       [False],\n",
       "       [ True],\n",
       "       [ True],\n",
       "       [ True],\n",
       "       [ True],\n",
       "       [ True],\n",
       "       [ True],\n",
       "       [ True],\n",
       "       [ True],\n",
       "       [ True],\n",
       "       [ True],\n",
       "       [ True],\n",
       "       [ True],\n",
       "       [ True],\n",
       "       [ True],\n",
       "       [ True],\n",
       "       [ True],\n",
       "       [ True],\n",
       "       [ True],\n",
       "       [ True],\n",
       "       [ True],\n",
       "       [ True],\n",
       "       [ True],\n",
       "       [ True],\n",
       "       [ True],\n",
       "       [ True],\n",
       "       [ True],\n",
       "       [ True],\n",
       "       [ True],\n",
       "       [ True],\n",
       "       [ True],\n",
       "       [ True],\n",
       "       [ True],\n",
       "       [ True],\n",
       "       [ True],\n",
       "       [ True],\n",
       "       [ True],\n",
       "       [ True],\n",
       "       [ True],\n",
       "       [ True],\n",
       "       [ True],\n",
       "       [ True],\n",
       "       [ True],\n",
       "       [ True],\n",
       "       [ True],\n",
       "       [ True],\n",
       "       [ True],\n",
       "       [ True],\n",
       "       [ True],\n",
       "       [ True],\n",
       "       [ True],\n",
       "       [ True],\n",
       "       [ True],\n",
       "       [ True],\n",
       "       [ True],\n",
       "       [ True],\n",
       "       [ True],\n",
       "       [ True],\n",
       "       [ True],\n",
       "       [ True],\n",
       "       [ True],\n",
       "       [ True],\n",
       "       [ True],\n",
       "       [ True],\n",
       "       [ True],\n",
       "       [ True],\n",
       "       [ True],\n",
       "       [ True],\n",
       "       [ True],\n",
       "       [ True],\n",
       "       [ True],\n",
       "       [ True],\n",
       "       [ True],\n",
       "       [ True],\n",
       "       [ True],\n",
       "       [ True],\n",
       "       [ True],\n",
       "       [ True],\n",
       "       [ True],\n",
       "       [ True],\n",
       "       [ True],\n",
       "       [ True],\n",
       "       [ True],\n",
       "       [ True],\n",
       "       [ True],\n",
       "       [ True],\n",
       "       [ True],\n",
       "       [ True],\n",
       "       [ True],\n",
       "       [ True],\n",
       "       [ True],\n",
       "       [ True],\n",
       "       [ True],\n",
       "       [ True],\n",
       "       [ True],\n",
       "       [ True],\n",
       "       [ True],\n",
       "       [ True],\n",
       "       [ True],\n",
       "       [ True],\n",
       "       [ True],\n",
       "       [ True],\n",
       "       [ True],\n",
       "       [ True],\n",
       "       [ True],\n",
       "       [ True],\n",
       "       [ True],\n",
       "       [ True],\n",
       "       [False],\n",
       "       [ True],\n",
       "       [False],\n",
       "       [ True],\n",
       "       [False]], dtype=bool)"
      ]
     },
     "execution_count": 28,
     "metadata": {},
     "output_type": "execute_result"
    }
   ],
   "source": [
    "g = h5py.File(filelist[0][:-6]+\"roi.hdf5\", 'r')\n",
    "g['inFrameDend'][:].astype(bool)"
   ]
  },
  {
   "cell_type": "code",
   "execution_count": 14,
   "metadata": {
    "collapsed": false
   },
   "outputs": [
    {
     "data": {
      "text/plain": [
       "array([ 39.        ,   1.33333337,   1.        ], dtype=float32)"
      ]
     },
     "execution_count": 14,
     "metadata": {},
     "output_type": "execute_result"
    }
   ],
   "source": [
    "f['meta'][3]"
   ]
  },
  {
   "cell_type": "code",
   "execution_count": 42,
   "metadata": {
    "collapsed": false
   },
   "outputs": [
    {
     "data": {
      "text/plain": [
       "array(['miss'], \n",
       "      dtype='<U4')"
      ]
     },
     "execution_count": 42,
     "metadata": {},
     "output_type": "execute_result"
    }
   ],
   "source": [
    "data = loadmat(filelist[1])\n",
    "data['trial'][0][3][2]"
   ]
  },
  {
   "cell_type": "code",
   "execution_count": 55,
   "metadata": {
    "collapsed": false
   },
   "outputs": [
    {
     "data": {
      "image/png": "[encoded data removed]",
      "text/plain": [
       "<matplotlib.figure.Figure at 0x7ffa7f0e4588>"
      ]
     },
     "metadata": {},
     "output_type": "display_data"
    }
   ],
   "source": [
    "stim_list = []\n",
    "for i in range(n_trials):\n",
    "    stim_list.append(data['trial'][0][i][1][0][0])\n",
    "\n",
    "sort = True\n",
    "window = 700\n",
    "\n",
    "n_trials = data['trial'][0].shape[0]\n",
    "\n",
    "if sort:\n",
    "    inds = np.argsort(stim_list)\n",
    "else:\n",
    "    inds = range(n_trials)\n",
    "\n",
    "plt.figure(figsize=(10,10))\n",
    "for i, k in enumerate(inds):\n",
    "    d = \"#5865D8\"\n",
    "    c = \"#676768\"\n",
    "    \n",
    "    try:\n",
    "        valid_ltimes = data[\"trial\"][0][i][3][0]\n",
    "        plt.scatter(valid_ltimes, np.ones(len(data[\"trial\"][0][i][3][0]))*k, color=c)\n",
    "    except IndexError:\n",
    "        pass\n",
    "    #try:\n",
    "    #    if valid_ltimes[0] <= window and f['meta'][i,2] == 1:                   #only mark blue if trial is a hit\n",
    "    #        plt.scatter([valid_ltimes[0]], [k], color=d)                        #first lick is within window\n",
    "    #except IndexError:\n",
    "    #    pass\n",
    "\n",
    "plt.axvspan(0, window, alpha=0.1, color='green')\n",
    "    \n",
    "plt.xlim=(-250,3000)\n",
    "plt.ylim(0,n_trials)\n",
    "plt.gca().invert_yaxis()"
   ]
  },
  {
   "cell_type": "code",
   "execution_count": 41,
   "metadata": {
    "collapsed": false
   },
   "outputs": [
    {
     "data": {
      "text/plain": [
       "array([ 1.,  1.,  1.,  1.,  1.,  1.,  1.,  1.,  1.,  1.,  1.,  1.])"
      ]
     },
     "execution_count": 41,
     "metadata": {},
     "output_type": "execute_result"
    }
   ],
   "source": [
    "np.ones(len(data[\"trial\"][0][0][3][0]))"
   ]
  },
  {
   "cell_type": "code",
   "execution_count": 37,
   "metadata": {
    "collapsed": false
   },
   "outputs": [
    {
     "ename": "IndexError",
     "evalue": "index 0 is out of bounds for axis 0 with size 0",
     "output_type": "error",
     "traceback": [
      "\u001b[0;31m---------------------------------------------------------------------------\u001b[0m",
      "\u001b[0;31mIndexError\u001b[0m                                Traceback (most recent call last)",
      "\u001b[0;32m<ipython-input-37-b66106101267>\u001b[0m in \u001b[0;36m<module>\u001b[0;34m()\u001b[0m\n\u001b[0;32m----> 1\u001b[0;31m \u001b[0mdata\u001b[0m\u001b[0;34m[\u001b[0m\u001b[0;34m\"trial\"\u001b[0m\u001b[0;34m]\u001b[0m\u001b[0;34m[\u001b[0m\u001b[0;36m0\u001b[0m\u001b[0;34m]\u001b[0m\u001b[0;34m[\u001b[0m\u001b[0;36m1\u001b[0m\u001b[0;34m]\u001b[0m\u001b[0;34m[\u001b[0m\u001b[0;36m3\u001b[0m\u001b[0;34m]\u001b[0m\u001b[0;34m[\u001b[0m\u001b[0;36m0\u001b[0m\u001b[0;34m]\u001b[0m\u001b[0;34m\u001b[0m\u001b[0m\n\u001b[0m",
      "\u001b[0;31mIndexError\u001b[0m: index 0 is out of bounds for axis 0 with size 0"
     ]
    }
   ],
   "source": [
    "data[\"trial\"][0][1][3][0]"
   ]
  },
  {
   "cell_type": "code",
   "execution_count": 3,
   "metadata": {
    "collapsed": false
   },
   "outputs": [],
   "source": [
    "data = loadmat(\"calcium_data/140708B_140811a_roi\")"
   ]
  },
  {
   "cell_type": "code",
   "execution_count": 4,
   "metadata": {
    "collapsed": false
   },
   "outputs": [
    {
     "data": {
      "text/plain": [
       "dict_keys(['__header__', '__version__', '__globals__', 'roi', 'driftMap', 'roi_stay', 'dend', 'inFrameDend'])"
      ]
     },
     "execution_count": 4,
     "metadata": {},
     "output_type": "execute_result"
    }
   ],
   "source": [
    "data.keys()"
   ]
  },
  {
   "cell_type": "code",
   "execution_count": 5,
   "metadata": {
    "collapsed": false
   },
   "outputs": [
    {
     "data": {
      "text/plain": [
       "<matplotlib.image.AxesImage at 0x7f7cd61b9dd8>"
      ]
     },
     "execution_count": 5,
     "metadata": {},
     "output_type": "execute_result"
    },
    {
     "data": {
      "image/png": "[encoded data removed]",
      "text/plain": [
       "<matplotlib.figure.Figure at 0x7f7cd9531f60>"
      ]
     },
     "metadata": {},
     "output_type": "display_data"
    }
   ],
   "source": [
    "plt.imshow(data['roi'], cmap='gray')"
   ]
  },
  {
   "cell_type": "code",
   "execution_count": 6,
   "metadata": {
    "collapsed": false
   },
   "outputs": [
    {
     "data": {
      "text/plain": [
       "<matplotlib.image.AxesImage at 0x7f7cd6087898>"
      ]
     },
     "execution_count": 6,
     "metadata": {},
     "output_type": "execute_result"
    },
    {
     "data": {
      "image/png": "[encoded data removed]",
      "text/plain": [
       "<matplotlib.figure.Figure at 0x7f7cd61150f0>"
      ]
     },
     "metadata": {},
     "output_type": "display_data"
    }
   ],
   "source": [
    "plt.imshow(data['driftMap'], cmap='gray')"
   ]
  },
  {
   "cell_type": "code",
   "execution_count": 72,
   "metadata": {
    "collapsed": false
   },
   "outputs": [
    {
     "data": {
      "text/plain": [
       "<matplotlib.collections.PathCollection at 0x7f7cd49ed208>"
      ]
     },
     "execution_count": 72,
     "metadata": {},
     "output_type": "execute_result"
    },
    {
     "data": {
      "image/png": "[encoded data removed]",
      "text/plain": [
       "<matplotlib.figure.Figure at 0x7f7cd49ed518>"
      ]
     },
     "metadata": {},
     "output_type": "display_data"
    }
   ],
   "source": [
    "plt.imshow(data['roi_stay'], origin='lower')\n",
    "plt.scatter(a[:,1], a[:,0], s=1, color='r')"
   ]
  },
  {
   "cell_type": "code",
   "execution_count": 71,
   "metadata": {
    "collapsed": false
   },
   "outputs": [],
   "source": [
    "a = data['dend'][0][97][0]"
   ]
  },
  {
   "cell_type": "code",
   "execution_count": 44,
   "metadata": {
    "collapsed": false
   },
   "outputs": [
    {
     "data": {
      "text/plain": [
       "(19, 2)"
      ]
     },
     "execution_count": 44,
     "metadata": {},
     "output_type": "execute_result"
    }
   ],
   "source": [
    "a.shape"
   ]
  },
  {
   "cell_type": "code",
   "execution_count": 75,
   "metadata": {
    "collapsed": false
   },
   "outputs": [
    {
     "data": {
      "text/plain": [
       "(1, 115)"
      ]
     },
     "execution_count": 75,
     "metadata": {},
     "output_type": "execute_result"
    }
   ],
   "source": [
    "data['dend'].shape"
   ]
  },
  {
   "cell_type": "code",
   "execution_count": null,
   "metadata": {
    "collapsed": true
   },
   "outputs": [],
   "source": []
  }
 ],
 "metadata": {
  "anaconda-cloud": {},
  "kernelspec": {
   "display_name": "Python 3",
   "language": "python",
   "name": "python3"
  },
  "language_info": {
   "codemirror_mode": {
    "name": "ipython",
    "version": 3
   },
   "file_extension": ".py",
   "mimetype": "text/x-python",
   "name": "python",
   "nbconvert_exporter": "python",
   "pygments_lexer": "ipython3",
   "version": "3.6.0"
  }
 },
 "nbformat": 4,
 "nbformat_minor": 2
}
