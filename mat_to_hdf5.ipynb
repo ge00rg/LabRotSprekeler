{
 "cells": [
  {
   "cell_type": "code",
   "execution_count": 1,
   "metadata": {
    "collapsed": false
   },
   "outputs": [],
   "source": [
    "from scipy.io import loadmat\n",
    "import matplotlib.pyplot as plt\n",
    "import h5py\n",
    "import numpy as np\n",
    "\n",
    "%matplotlib inline"
   ]
  },
  {
   "cell_type": "markdown",
   "metadata": {},
   "source": [
    "data['trial'][0] to access data\n",
    "data['trial'][0].shape = 350  - these are the trials\n",
    "\n",
    "In one trial:\n",
    "data['trial'][0][x][0] - one number (60-68), session\n",
    "\n",
    "data['trial'][0][x][1] - one number, stimAmp\n",
    "\n",
    "data['trial'][0][x][2] - 'hit' or 'miss', response\n",
    "\n",
    "data['trial'][0][x][3] - lick times\n",
    "\n",
    "data['trial'][0][x][4] - (180,115) time*ca2+"
   ]
  },
  {
   "cell_type": "code",
   "execution_count": 2,
   "metadata": {
    "collapsed": false
   },
   "outputs": [],
   "source": [
    "def mat_to_h5py(filename, roi=False):\n",
    "    print('Converting '+filename)\n",
    "    data = loadmat(filename)\n",
    "    f = h5py.File(filename+\".hdf5\", \"w\")\n",
    "    if roi==False:\n",
    "        n_trials = data['trial'][0].shape[0]\n",
    "        experiment_number = data['trial'][0][0][0].shape[0]\n",
    "        stim_strength = data['trial'][0][0][1].shape[0]\n",
    "        hit_miss = data['trial'][0][0][2].shape[0]\n",
    "        \n",
    "        lick_times = 0                     #extract maximum number of lick times\n",
    "        for i in range(n_trials):\n",
    "            if data['trial'][0][i][3].shape[1] > lick_times:\n",
    "                lick_times = data['trial'][0][i][3].shape[1]\n",
    "        \n",
    "        #print(lick_times)\n",
    "        \n",
    "        n_dendrites = data['trial'][0][0][4].shape[1]\n",
    "        times = data['trial'][0][0][4].shape[0]\n",
    "        \n",
    "        print(n_dendrites, times)\n",
    "        \n",
    "        f.create_dataset(\"meta\", (n_trials, experiment_number + stim_strength + hit_miss))\n",
    "        if lick_times != 0:\n",
    "            f.create_dataset(\"licktimes\", (n_trials, lick_times)) # problem here\n",
    "            f['licktimes'][:] = np.ones((n_trials, lick_times))*(-1)\n",
    "        f.create_dataset(\"data\", (n_trials, n_dendrites, times), dtype='float64')\n",
    "        \n",
    "        meta = np.zeros((n_trials, experiment_number + stim_strength + hit_miss))\n",
    "        for i in range(n_trials):\n",
    "            meta[i][0] = data['trial'][0][i][0][0][0] #experiment number\n",
    "            meta[i][1] = data['trial'][0][i][1][0][0] #stim_strength\n",
    "            if data['trial'][0][i][2][0]=='hit':\n",
    "                meta[i][2] = 1    #hit/miss\n",
    "            else:\n",
    "                meta[i][2] = 0\n",
    "        \n",
    "        for i in range(n_trials):\n",
    "            #f[\"meta\"][i] = data['trial'][0][i][0][0][0]\n",
    "            f['data'][i] = data['trial'][0][i][4].T\n",
    "            #f['meta'][i][0] = data['trial'][0][i][0][0][0] #experiment number\n",
    "            #f['meta'][i][1] = data['trial'][0][i][1][0][0] #stim_strength\n",
    "            try:\n",
    "                f['licktimes'][i,:data['trial'][0][i][3][0].shape[0]] = data['trial'][0][i][3][0]\n",
    "            except IndexError:\n",
    "                pass\n",
    "        \n",
    "        f['meta'][:] = meta"
   ]
  },
  {
   "cell_type": "code",
   "execution_count": 3,
   "metadata": {
    "collapsed": true
   },
   "outputs": [],
   "source": [
    "filelist = [\"calcium_data/140708B_140811a_result\", \n",
    "            \"calcium_data/140909C_141112a_result\", \n",
    "            \"calcium_data/141006C_141121a_result\",\n",
    "            \"calcium_data/150109A_150302a_result\", \n",
    "            \"calcium_data/151122A_160202a_result\", \n",
    "            \"calcium_data/151122B_160207a_result\", \n",
    "            \"calcium_data/160209A_160430a_result\", \n",
    "            \"calcium_data/160209B_160428a_result\"]"
   ]
  },
  {
   "cell_type": "code",
   "execution_count": 4,
   "metadata": {
    "collapsed": false
   },
   "outputs": [
    {
     "name": "stdout",
     "output_type": "stream",
     "text": [
      "Converting calcium_data/140708B_140811a_result\n",
      "115 180\n",
      "Converting calcium_data/140909C_141112a_result\n",
      "101 180\n",
      "Converting calcium_data/141006C_141121a_result\n",
      "99 180\n",
      "Converting calcium_data/150109A_150302a_result\n",
      "84 180\n",
      "Converting calcium_data/151122A_160202a_result\n",
      "123 180\n",
      "Converting calcium_data/151122B_160207a_result\n",
      "135 180\n",
      "Converting calcium_data/160209A_160430a_result\n",
      "86 180\n",
      "Converting calcium_data/160209B_160428a_result\n",
      "91 180\n"
     ]
    }
   ],
   "source": [
    "for filename in filelist:\n",
    "    mat_to_h5py(filename)"
   ]
  },
  {
   "cell_type": "code",
   "execution_count": 5,
   "metadata": {
    "collapsed": false
   },
   "outputs": [
    {
     "data": {
      "text/plain": [
       "(210, 99, 180)"
      ]
     },
     "execution_count": 5,
     "metadata": {},
     "output_type": "execute_result"
    }
   ],
   "source": [
    "f = h5py.File(filelist[2]+\".hdf5\", \"r\")\n",
    "f['data'][:].shape"
   ]
  },
  {
   "cell_type": "code",
   "execution_count": 27,
   "metadata": {
    "collapsed": false
   },
   "outputs": [
    {
     "data": {
      "text/plain": [
       "array([ 39.        ,   1.33333337,   1.        ], dtype=float32)"
      ]
     },
     "execution_count": 27,
     "metadata": {},
     "output_type": "execute_result"
    }
   ],
   "source": [
    "f['meta'][3]"
   ]
  },
  {
   "cell_type": "code",
   "execution_count": 30,
   "metadata": {
    "collapsed": false
   },
   "outputs": [
    {
     "data": {
      "text/plain": [
       "array(['hit'], \n",
       "      dtype='<U3')"
      ]
     },
     "execution_count": 30,
     "metadata": {},
     "output_type": "execute_result"
    }
   ],
   "source": [
    "data = loadmat(filelist[2])\n",
    "data['trial'][0][3][2]"
   ]
  },
  {
   "cell_type": "code",
   "execution_count": null,
   "metadata": {
    "collapsed": true
   },
   "outputs": [],
   "source": []
  }
 ],
 "metadata": {
  "anaconda-cloud": {},
  "kernelspec": {
   "display_name": "Python [default]",
   "language": "python",
   "name": "python3"
  },
  "language_info": {
   "codemirror_mode": {
    "name": "ipython",
    "version": 3
   },
   "file_extension": ".py",
   "mimetype": "text/x-python",
   "name": "python",
   "nbconvert_exporter": "python",
   "pygments_lexer": "ipython3",
   "version": "3.5.2"
  }
 },
 "nbformat": 4,
 "nbformat_minor": 2
}
