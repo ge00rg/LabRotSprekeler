{
 "cells": [
  {
   "cell_type": "code",
   "execution_count": 1,
   "metadata": {
    "collapsed": true
   },
   "outputs": [],
   "source": [
    "from scipy.io import loadmat\n",
    "import h5py\n",
    "import numpy as np\n",
    "import matplotlib.pyplot as plt\n",
    "from sklearn.metrics import auc\n",
    "from sklearn.metrics import roc_curve\n",
    "from sklearn.metrics import roc_auc_score\n",
    "from sklearn import svm\n",
    "from sklearn.model_selection import train_test_split\n",
    "from sklearn.model_selection import cross_val_score\n",
    "import polynomial as poly\n",
    "\n",
    "%matplotlib inline"
   ]
  },
  {
   "cell_type": "code",
   "execution_count": 2,
   "metadata": {
    "collapsed": true
   },
   "outputs": [],
   "source": [
    "filelist = [\"calcium_data/140708B_140811a_result\", \n",
    "            \"calcium_data/140909C_141112a_result\", \n",
    "            \"calcium_data/141006C_141121a_result\",\n",
    "            \"calcium_data/150109A_150302a_result\", \n",
    "            \"calcium_data/151122A_160202a_result\", \n",
    "            \"calcium_data/151122B_160207a_result\", \n",
    "            \"calcium_data/160209A_160430a_result\", \n",
    "            \"calcium_data/160209B_160428a_result\"]"
   ]
  },
  {
   "cell_type": "code",
   "execution_count": 3,
   "metadata": {
    "collapsed": false
   },
   "outputs": [],
   "source": [
    "def SVM_presence_single(filename, amp, svm_kernel='linear', deg=6, cv=5):\n",
    "    '''\n",
    "    a\n",
    "    '''\n",
    "    f = h5py.File(filename+\".hdf5\", \"r\")\n",
    "    data = f['data']\n",
    "    meta = f['meta']\n",
    "    data = poly.fit_polynomial(filename, deg=deg, exclude_mask=None)\n",
    "    #load data\n",
    "\n",
    "    stims = np.unique(meta[:,1])[1:]        #exclude zero-stim-trials\n",
    "    assert(amp in list(stims)), \"this stimAmp was not used in chosen experiment. Cose one from {}.\".format(stims)\n",
    "    #load stimAmps and check whether the chosen amp matches one of them\n",
    "\n",
    "    clf = svm.SVC(kernel=svm_kernel)\n",
    "    #create classifier\n",
    "    \n",
    "    n_dendrites = data.shape[2]\n",
    "    #number of dendrites, loop over these\n",
    "    \n",
    "    sc = np.zeros((n_dendrites, cv))\n",
    "    #will later hold the cv-scores\n",
    "    \n",
    "    present_mask = meta[:,1]==amp\n",
    "    absent_mask = meta[:,1]==0\n",
    "    #boolean masks of the trials where stimAmp==amp and stimAmp==0\n",
    "    \n",
    "    trials_mask = np.logical_or(present_mask, absent_mask)\n",
    "    #boolean mask for all trials where the stimulus is either our chosen one or absent (0)\n",
    "    \n",
    "    amp_mask = meta[:,1][trials_mask]==amp\n",
    "    y_true = (amp_mask-0.5)*2\n",
    "    #take all trials used for making y_score. Mark the present ones with a '1', absent ones with a '-1'\n",
    "\n",
    "    for site in range(n_dendrites):\n",
    "        y_score = data[:, trials_mask, site]\n",
    "\n",
    "        scores = cross_val_score(clf, y_score.T, y_true.reshape(y_true.shape[0]), cv=cv)\n",
    "        #compute accuracy scores using crossvalidation\n",
    "        \n",
    "        sc[site, :] = scores\n",
    "        \n",
    "    return sc"
   ]
  },
  {
   "cell_type": "code",
   "execution_count": 4,
   "metadata": {
    "collapsed": true
   },
   "outputs": [],
   "source": [
    "def SVM_presence_combined(filename, svm_kernel='linear', deg=6, cv=10):\n",
    "    '''\n",
    "    Trains an SVM on the Ca2+ data of all dendrites to detect stimulus presence.\n",
    "    \n",
    "    filename: string, name of experiment file\n",
    "    svm_kernel: string, specifies svm kernel to use for training\n",
    "    cv: int, number of folds for cv\n",
    "    \n",
    "    returns: n_stims x cv ndarray. Each row holds the accuracy values for each fold for one stimulus strength.\n",
    "    '''\n",
    "    f = h5py.File(filename+\".hdf5\", \"r\")\n",
    "    #data = f['data']\n",
    "    meta = f['meta']\n",
    "    coefs = poly.fit_polynomial(filename, deg=deg, exclude_mask=None)\n",
    "    data = poly.get_f_matrix(coefs)\n",
    "    \n",
    "    stims = np.unique(meta[:,1])[1:]        #exclude zero\n",
    "    #load data and stimulia\n",
    "    \n",
    "    sc = np.zeros((stims.shape[0], cv))\n",
    "    #will hold scores\n",
    "    \n",
    "    for i, amp in enumerate(stims):\n",
    "        present_mask = meta[:,1]==amp\n",
    "        absent_mask = meta[:,1]==0\n",
    "        #masks for present and absent trials\n",
    "        \n",
    "        trials_mask = np.logical_or(present_mask, absent_mask)\n",
    "        #combine these to mask of all trials with stimulus zero or the chosen stimulus\n",
    "    \n",
    "        amp_mask = meta[:,1][trials_mask]==amp\n",
    "        y_true = (amp_mask-0.5)*2\n",
    "        #stimulus present trials are marked as '1', absent ones as '-1'\n",
    "\n",
    "        y_score = data[trials_mask, :]\n",
    "        #scores used are mean dendritic changes in chosen trials\n",
    "\n",
    "        clf = svm.SVC(kernel=svm_kernel)\n",
    "        scores = cross_val_score(clf, y_score, y_true.reshape(y_true.shape[0]), cv=cv)\n",
    "        #make classifier and compute accuracy scores using cross validation\n",
    "        \n",
    "        sc[i, :] = scores\n",
    "    return sc"
   ]
  },
  {
   "cell_type": "code",
   "execution_count": 25,
   "metadata": {
    "collapsed": true
   },
   "outputs": [],
   "source": [
    "def SVM_presence_combined(filename, svm_kernel='linear', deg=6, cv=10):\n",
    "    '''\n",
    "    Trains an SVM on the Ca2+ data of all dendrites to detect stimulus presence.\n",
    "    \n",
    "    filename: string, name of experiment file\n",
    "    svm_kernel: string, specifies svm kernel to use for training\n",
    "    cv: int, number of folds for cv\n",
    "    \n",
    "    returns: n_stims x cv ndarray. Each row holds the accuracy values for each fold for one stimulus strength.\n",
    "    '''\n",
    "    f = h5py.File(filename+\".hdf5\", \"r\")\n",
    "    #data = f['data']\n",
    "    meta = f['meta']\n",
    "    coefs = poly.fit_polynomial(filename, deg=deg, exclude_mask=None)\n",
    "    #data = poly.get_f_matrix(coefs)\n",
    "    \n",
    "    stims = np.unique(meta[:,1])[1:]        #exclude zero\n",
    "    #load data and stimulia\n",
    "    \n",
    "    sc = np.zeros((stims.shape[0], cv))\n",
    "    #will hold scores\n",
    "    \n",
    "    for i, amp in enumerate(stims):\n",
    "        present_mask = meta[:,1]==amp\n",
    "        absent_mask = meta[:,1]==0\n",
    "        #masks for present and absent trials\n",
    "        \n",
    "        trials_mask = np.logical_or(present_mask, absent_mask)\n",
    "        #combine these to mask of all trials with stimulus zero or the chosen stimulus\n",
    "    \n",
    "        amp_mask = meta[:,1][trials_mask]==amp\n",
    "        y_true = (amp_mask-0.5)*2\n",
    "        #stimulus present trials are marked as '1', absent ones as '-1'\n",
    "\n",
    "        #y_score = data[trials_mask, :]\n",
    "        y_score = np.transpose(coefs[:, trials_mask, :], axes=[1,2,0])\n",
    "        y_score = y_score.reshape(y_score.shape[0], -1)\n",
    "        print(y_score.shape)\n",
    "        #scores used are mean dendritic changes in chosen trials\n",
    "\n",
    "        clf = svm.SVC(kernel=svm_kernel)\n",
    "        scores = cross_val_score(clf, y_score, y_true.reshape(y_true.shape[0]), cv=cv)\n",
    "        #make classifier and compute accuracy scores using cross validation\n",
    "        \n",
    "        sc[i, :] = scores\n",
    "    return sc"
   ]
  },
  {
   "cell_type": "code",
   "execution_count": 39,
   "metadata": {
    "collapsed": false
   },
   "outputs": [],
   "source": [
    "scs = SVM_presence_single(filelist[0], 3, svm_kernel='linear', deg=7, cv=5)"
   ]
  },
  {
   "cell_type": "code",
   "execution_count": 40,
   "metadata": {
    "collapsed": false
   },
   "outputs": [
    {
     "name": "stdout",
     "output_type": "stream",
     "text": [
      "For recording site 0: accuracy:  0.66 (+/-  0.20)\n",
      "For recording site 1: accuracy:  0.76 (+/-  0.07)\n",
      "For recording site 2: accuracy:  0.48 (+/-  0.12)\n",
      "For recording site 3: accuracy:  0.46 (+/-  0.04)\n",
      "For recording site 4: accuracy:  0.53 (+/-  0.12)\n",
      "For recording site 5: accuracy:  0.49 (+/-  0.17)\n",
      "For recording site 6: accuracy:  0.49 (+/-  0.17)\n",
      "For recording site 7: accuracy:  0.63 (+/-  0.21)\n",
      "For recording site 8: accuracy:  0.45 (+/-  0.14)\n",
      "For recording site 9: accuracy:  0.53 (+/-  0.10)\n",
      "For recording site 10: accuracy:  0.56 (+/-  0.07)\n",
      "For recording site 11: accuracy:  0.51 (+/-  0.17)\n",
      "For recording site 12: accuracy:  0.53 (+/-  0.16)\n",
      "For recording site 13: accuracy:  0.43 (+/-  0.21)\n",
      "For recording site 14: accuracy:  0.52 (+/-  0.10)\n",
      "For recording site 15: accuracy:  0.52 (+/-  0.12)\n",
      "For recording site 16: accuracy:  0.60 (+/-  0.09)\n",
      "For recording site 17: accuracy:  0.60 (+/-  0.15)\n",
      "For recording site 18: accuracy:  0.54 (+/-  0.21)\n",
      "For recording site 19: accuracy:  0.58 (+/-  0.19)\n",
      "For recording site 20: accuracy:  0.58 (+/-  0.19)\n",
      "For recording site 21: accuracy:  0.47 (+/-  0.08)\n",
      "For recording site 22: accuracy:  0.47 (+/-  0.12)\n",
      "For recording site 23: accuracy:  0.49 (+/-  0.20)\n",
      "For recording site 24: accuracy:  0.68 (+/-  0.17)\n",
      "For recording site 25: accuracy:  0.54 (+/-  0.19)\n",
      "For recording site 26: accuracy:  0.50 (+/-  0.06)\n",
      "For recording site 27: accuracy:  0.50 (+/-  0.17)\n",
      "For recording site 28: accuracy:  0.65 (+/-  0.22)\n",
      "For recording site 29: accuracy:  0.47 (+/-  0.05)\n",
      "For recording site 30: accuracy:  0.52 (+/-  0.10)\n",
      "For recording site 31: accuracy:  0.52 (+/-  0.08)\n",
      "For recording site 32: accuracy:  0.51 (+/-  0.10)\n",
      "For recording site 33: accuracy:  0.71 (+/-  0.15)\n",
      "For recording site 34: accuracy:  0.48 (+/-  0.10)\n",
      "For recording site 35: accuracy:  0.51 (+/-  0.13)\n",
      "For recording site 36: accuracy:  0.51 (+/-  0.12)\n",
      "For recording site 37: accuracy:  0.46 (+/-  0.07)\n",
      "For recording site 38: accuracy:  0.51 (+/-  0.04)\n",
      "For recording site 39: accuracy:  0.47 (+/-  0.12)\n",
      "For recording site 40: accuracy:  0.47 (+/-  0.16)\n",
      "For recording site 41: accuracy:  0.48 (+/-  0.08)\n",
      "For recording site 42: accuracy:  0.46 (+/-  0.10)\n",
      "For recording site 43: accuracy:  0.54 (+/-  0.12)\n",
      "For recording site 44: accuracy:  0.55 (+/-  0.15)\n",
      "For recording site 45: accuracy:  0.49 (+/-  0.12)\n",
      "For recording site 46: accuracy:  0.57 (+/-  0.19)\n",
      "For recording site 47: accuracy:  0.51 (+/-  0.10)\n",
      "For recording site 48: accuracy:  0.53 (+/-  0.22)\n",
      "For recording site 49: accuracy:  0.48 (+/-  0.10)\n",
      "For recording site 50: accuracy:  0.63 (+/-  0.14)\n",
      "For recording site 51: accuracy:  0.53 (+/-  0.15)\n",
      "For recording site 52: accuracy:  0.51 (+/-  0.07)\n",
      "For recording site 53: accuracy:  0.54 (+/-  0.07)\n",
      "For recording site 54: accuracy:  0.54 (+/-  0.07)\n",
      "For recording site 55: accuracy:  0.49 (+/-  0.04)\n",
      "For recording site 56: accuracy:  0.57 (+/-  0.12)\n",
      "For recording site 57: accuracy:  0.52 (+/-  0.08)\n",
      "For recording site 58: accuracy:  0.49 (+/-  0.12)\n",
      "For recording site 59: accuracy:  0.50 (+/-  0.14)\n",
      "For recording site 60: accuracy:  0.64 (+/-  0.15)\n",
      "For recording site 61: accuracy:  0.51 (+/-  0.07)\n",
      "For recording site 62: accuracy:  0.46 (+/-  0.04)\n",
      "For recording site 63: accuracy:  0.56 (+/-  0.12)\n",
      "For recording site 64: accuracy:  0.47 (+/-  0.16)\n",
      "For recording site 65: accuracy:  0.49 (+/-  0.04)\n",
      "For recording site 66: accuracy:  0.71 (+/-  0.16)\n",
      "For recording site 67: accuracy:  0.52 (+/-  0.14)\n",
      "For recording site 68: accuracy:  0.46 (+/-  0.07)\n",
      "For recording site 69: accuracy:  0.47 (+/-  0.08)\n",
      "For recording site 70: accuracy:  0.46 (+/-  0.07)\n",
      "For recording site 71: accuracy:  0.50 (+/-  0.06)\n",
      "For recording site 72: accuracy:  0.54 (+/-  0.12)\n",
      "For recording site 73: accuracy:  0.53 (+/-  0.10)\n",
      "For recording site 74: accuracy:  0.60 (+/-  0.14)\n",
      "For recording site 75: accuracy:  0.70 (+/-  0.17)\n",
      "For recording site 76: accuracy:  0.47 (+/-  0.14)\n",
      "For recording site 77: accuracy:  0.50 (+/-  0.14)\n",
      "For recording site 78: accuracy:  0.54 (+/-  0.12)\n",
      "For recording site 79: accuracy:  0.55 (+/-  0.20)\n",
      "For recording site 80: accuracy:  0.51 (+/-  0.15)\n",
      "For recording site 81: accuracy:  0.52 (+/-  0.08)\n",
      "For recording site 82: accuracy:  0.48 (+/-  0.14)\n",
      "For recording site 83: accuracy:  0.51 (+/-  0.10)\n",
      "For recording site 84: accuracy:  0.52 (+/-  0.10)\n",
      "For recording site 85: accuracy:  0.52 (+/-  0.10)\n",
      "For recording site 86: accuracy:  0.48 (+/-  0.15)\n",
      "For recording site 87: accuracy:  0.51 (+/-  0.07)\n",
      "For recording site 88: accuracy:  0.51 (+/-  0.07)\n",
      "For recording site 89: accuracy:  0.52 (+/-  0.22)\n",
      "For recording site 90: accuracy:  0.47 (+/-  0.05)\n",
      "For recording site 91: accuracy:  0.54 (+/-  0.07)\n",
      "For recording site 92: accuracy:  0.47 (+/-  0.14)\n",
      "For recording site 93: accuracy:  0.61 (+/-  0.18)\n",
      "For recording site 94: accuracy:  0.47 (+/-  0.05)\n",
      "For recording site 95: accuracy:  0.47 (+/-  0.10)\n",
      "For recording site 96: accuracy:  0.50 (+/-  0.09)\n",
      "For recording site 97: accuracy:  0.71 (+/-  0.18)\n",
      "For recording site 98: accuracy:  0.46 (+/-  0.07)\n",
      "For recording site 99: accuracy:  0.50 (+/-  0.13)\n",
      "For recording site 100: accuracy:  0.65 (+/-  0.09)\n",
      "For recording site 101: accuracy:  0.53 (+/-  0.10)\n",
      "For recording site 102: accuracy:  0.50 (+/-  0.14)\n",
      "For recording site 103: accuracy:  0.60 (+/-  0.23)\n",
      "For recording site 104: accuracy:  0.49 (+/-  0.04)\n",
      "For recording site 105: accuracy:  0.50 (+/-  0.09)\n",
      "For recording site 106: accuracy:  0.49 (+/-  0.07)\n",
      "For recording site 107: accuracy:  0.69 (+/-  0.13)\n",
      "For recording site 108: accuracy:  0.47 (+/-  0.16)\n",
      "For recording site 109: accuracy:  0.73 (+/-  0.21)\n",
      "For recording site 110: accuracy:  0.52 (+/-  0.12)\n",
      "For recording site 111: accuracy:  0.75 (+/-  0.28)\n",
      "For recording site 112: accuracy:  0.42 (+/-  0.05)\n",
      "For recording site 113: accuracy:  0.47 (+/-  0.08)\n",
      "For recording site 114: accuracy:  0.62 (+/-  0.15)\n"
     ]
    }
   ],
   "source": [
    "means = np.mean(scs, axis=1)\n",
    "sdvs = np.std(scs, axis=1)\n",
    "\n",
    "for site, mean in enumerate(means):\n",
    "    print(\"For recording site {0}: accuracy: {1: .2f} (+/- {2: .2f})\".format(site, mean, sdvs[site]*2))"
   ]
  },
  {
   "cell_type": "code",
   "execution_count": 41,
   "metadata": {
    "collapsed": false
   },
   "outputs": [
    {
     "name": "stdout",
     "output_type": "stream",
     "text": [
      "6 recordings sites best for classification:\n",
      "At recording site 1: accuracy:  0.76 (+/-  0.07)\n",
      "At recording site 111: accuracy:  0.75 (+/-  0.28)\n",
      "At recording site 109: accuracy:  0.73 (+/-  0.21)\n",
      "At recording site 97: accuracy:  0.71 (+/-  0.18)\n",
      "At recording site 33: accuracy:  0.71 (+/-  0.15)\n",
      "At recording site 66: accuracy:  0.71 (+/-  0.16)\n"
     ]
    }
   ],
   "source": [
    "n_out = 6\n",
    "inds = np.argsort(means)[::-1]\n",
    "\n",
    "print(\"{} recordings sites best for classification:\".format(n_out))\n",
    "for i in range(n_out):\n",
    "    print(\"At recording site {0}: accuracy: {1: .2f} (+/- {2: .2f})\".format(inds[i], means[inds[i]], sdvs[inds[i]]*2))"
   ]
  },
  {
   "cell_type": "code",
   "execution_count": 26,
   "metadata": {
    "collapsed": false
   },
   "outputs": [
    {
     "name": "stdout",
     "output_type": "stream",
     "text": [
      "(100, 805)\n",
      "(100, 805)\n",
      "(100, 805)\n",
      "(100, 805)\n",
      "(100, 805)\n",
      "(100, 805)\n",
      "For stimApm  0.50: accuracy:  0.46 (+/-  0.26)\n",
      "For stimApm  1.00: accuracy:  0.56 (+/-  0.16)\n",
      "For stimApm  1.50: accuracy:  0.53 (+/-  0.38)\n",
      "For stimApm  2.00: accuracy:  0.56 (+/-  0.34)\n",
      "For stimApm  2.50: accuracy:  0.55 (+/-  0.33)\n",
      "For stimApm  3.00: accuracy:  0.46 (+/-  0.27)\n"
     ]
    }
   ],
   "source": [
    "filename = filelist[0]\n",
    "f = h5py.File(filename+\".hdf5\", \"r\")\n",
    "meta = f['meta']\n",
    "stims = np.unique(meta[:,1])[1:]        #exclude zero\n",
    "\n",
    "sc = SVM_presence_combined(filename, deg=6)\n",
    "\n",
    "for k in range(sc.shape[0]):\n",
    "    print(\"For stimApm {0: .2f}: accuracy: {1: .2f} (+/- {2: .2f})\".format(stims[k], np.mean(sc[k,:]), 2*np.std(sc[k,:])))"
   ]
  },
  {
   "cell_type": "code",
   "execution_count": null,
   "metadata": {
    "collapsed": true
   },
   "outputs": [],
   "source": []
  },
  {
   "cell_type": "code",
   "execution_count": null,
   "metadata": {
    "collapsed": true
   },
   "outputs": [],
   "source": []
  }
 ],
 "metadata": {
  "kernelspec": {
   "display_name": "Python 3",
   "language": "python",
   "name": "python3"
  },
  "language_info": {
   "codemirror_mode": {
    "name": "ipython",
    "version": 3
   },
   "file_extension": ".py",
   "mimetype": "text/x-python",
   "name": "python",
   "nbconvert_exporter": "python",
   "pygments_lexer": "ipython3",
   "version": "3.6.0"
  }
 },
 "nbformat": 4,
 "nbformat_minor": 2
}
