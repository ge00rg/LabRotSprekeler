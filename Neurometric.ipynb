{
 "cells": [
  {
   "cell_type": "code",
   "execution_count": 59,
   "metadata": {
    "collapsed": false
   },
   "outputs": [],
   "source": [
    "from scipy.io import loadmat\n",
    "import h5py\n",
    "import numpy as np\n",
    "import matplotlib.pyplot as plt\n",
    "from sklearn.metrics import auc\n",
    "from sklearn.metrics import roc_curve\n",
    "from sklearn.metrics import roc_auc_score\n",
    "\n",
    "from ROC import get_DIs\n",
    "\n",
    "\n",
    "%matplotlib inline"
   ]
  },
  {
   "cell_type": "code",
   "execution_count": 2,
   "metadata": {
    "collapsed": true
   },
   "outputs": [],
   "source": [
    "filelist = [\"calcium_data/140708B_140811a_result\", \n",
    "            \"calcium_data/140909C_141112a_result\", \n",
    "            \"calcium_data/141006C_141121a_result\",\n",
    "            \"calcium_data/150109A_150302a_result\", \n",
    "            \"calcium_data/151122A_160202a_result\", \n",
    "            \"calcium_data/151122B_160207a_result\", \n",
    "            \"calcium_data/160209A_160430a_result\", \n",
    "            \"calcium_data/160209B_160428a_result\"]"
   ]
  },
  {
   "cell_type": "code",
   "execution_count": 87,
   "metadata": {
    "collapsed": true
   },
   "outputs": [],
   "source": [
    "def get_SI(PF, NF):\n",
    "    return -(np.sqrt(np.sum((PF - NF)**2)) - np.sqrt(np.sum(PF**2)))/np.sqrt(np.sum(PF**2))"
   ]
  },
  {
   "cell_type": "code",
   "execution_count": 151,
   "metadata": {
    "collapsed": true
   },
   "outputs": [],
   "source": [
    "filename = filelist[0]\n",
    "f = h5py.File(filename+\".hdf5\", \"r\")"
   ]
  },
  {
   "cell_type": "code",
   "execution_count": 152,
   "metadata": {
    "collapsed": false
   },
   "outputs": [],
   "source": [
    "meta = f['meta']\n",
    "stims = np.unique(meta[:,1])[1:]\n",
    "\n",
    "#compute hits/misses\n",
    "NF = []\n",
    "for stim in stims:\n",
    "    trials_mask = meta[:,1]==stim\n",
    "    rate = np.sum(meta[trials_mask,2]==1)/np.sum(meta[trials_mask,2].shape[0]) #hits over misses\n",
    "    NF.append(rate)"
   ]
  },
  {
   "cell_type": "code",
   "execution_count": 153,
   "metadata": {
    "collapsed": false
   },
   "outputs": [],
   "source": [
    "n = 5\n",
    "n_dendrites = h5py.File(filename+\".hdf5\", \"r\")['data'].shape[1]\n",
    "\n",
    "DI_stim = np.zeros((n_dendrites, stims.shape[0]))\n",
    "\n",
    "#get highest average DIs\n",
    "for k, stim in enumerate(stims):\n",
    "    DI_stim[:,k] = get_DIs(filename, stim)\n",
    "    \n",
    "avs = np.mean(DI_stim, axis=1)\n",
    "avs_inds = np.argsort(avs)\n",
    "\n",
    "inds_pos = avs_inds[::-1][:n]\n",
    "inds_neg = avs_inds[:n]\n",
    "\n",
    "SIs_pos = []\n",
    "SIs_neg = []\n",
    "for i in range(n):\n",
    "    PF = DI_stim[inds_pos[i]]\n",
    "    SI_pos = get_SI(PF, NF)\n",
    "    \n",
    "    PF = DI_stim[inds_neg[i]]\n",
    "    SI_neg = get_SI(PF, NF)\n",
    "    \n",
    "    SIs_pos.append(SI_pos)\n",
    "    SIs_neg.append(SI_neg)\n",
    "    \n",
    "p_ind = np.argmax(SIs_pos)\n",
    "n_ind = np.argmax(SIs_neg)"
   ]
  },
  {
   "cell_type": "code",
   "execution_count": 154,
   "metadata": {
    "collapsed": false
   },
   "outputs": [
    {
     "data": {
      "text/plain": [
       "[<matplotlib.lines.Line2D at 0x7ff7cc440dd8>]"
      ]
     },
     "execution_count": 154,
     "metadata": {},
     "output_type": "execute_result"
    },
    {
     "data": {
      "image/png": "[encoded data removed]",
      "text/plain": [
       "<matplotlib.figure.Figure at 0x7ff7cc440668>"
      ]
     },
     "metadata": {},
     "output_type": "display_data"
    }
   ],
   "source": [
    "plt.plot(SIs_pos)\n",
    "plt.plot(SIs_neg)"
   ]
  },
  {
   "cell_type": "code",
   "execution_count": 155,
   "metadata": {
    "collapsed": false
   },
   "outputs": [
    {
     "data": {
      "text/plain": [
       "<matplotlib.legend.Legend at 0x7ff7cc24f320>"
      ]
     },
     "execution_count": 155,
     "metadata": {},
     "output_type": "execute_result"
    },
    {
     "data": {
      "image/png": "[encoded data removed]",
      "text/plain": [
       "<matplotlib.figure.Figure at 0x7ff7cc2b5b00>"
      ]
     },
     "metadata": {},
     "output_type": "display_data"
    }
   ],
   "source": [
    "plt.errorbar(stims, NF, fmt='-o', label='psychometric')\n",
    "plt.errorbar(stims, DI_stim[inds_neg[n_ind]], fmt='-o', label='neurometric, lowest SI')\n",
    "plt.errorbar(stims, DI_stim[inds_pos[p_ind]], fmt='-o', label='neurometric, highest SI')\n",
    "plt.legend(frameon=False)\n",
    "#plt.errorbar(stims, neg[0])\n",
    "#plt.ylim(0,1)"
   ]
  },
  {
   "cell_type": "code",
   "execution_count": 92,
   "metadata": {
    "collapsed": false
   },
   "outputs": [
    {
     "data": {
      "text/plain": [
       "array([-4.37073201, -5.3945008 , -4.8757282 , -3.60869915, -3.81857458,\n",
       "       -4.07236006])"
      ]
     },
     "execution_count": 92,
     "metadata": {},
     "output_type": "execute_result"
    }
   ],
   "source": [
    "pos[0]"
   ]
  },
  {
   "cell_type": "code",
   "execution_count": null,
   "metadata": {
    "collapsed": true
   },
   "outputs": [],
   "source": []
  }
 ],
 "metadata": {
  "kernelspec": {
   "display_name": "Python 3",
   "language": "python",
   "name": "python3"
  },
  "language_info": {
   "codemirror_mode": {
    "name": "ipython",
    "version": 3
   },
   "file_extension": ".py",
   "mimetype": "text/x-python",
   "name": "python",
   "nbconvert_exporter": "python",
   "pygments_lexer": "ipython3",
   "version": "3.6.0"
  }
 },
 "nbformat": 4,
 "nbformat_minor": 2
}
