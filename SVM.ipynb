{
 "cells": [
  {
   "cell_type": "code",
   "execution_count": 1,
   "metadata": {
    "collapsed": true
   },
   "outputs": [],
   "source": [
    "from scipy.io import loadmat\n",
    "import h5py\n",
    "import numpy as np\n",
    "import matplotlib.pyplot as plt\n",
    "from sklearn.metrics import auc\n",
    "from sklearn.metrics import roc_curve\n",
    "from sklearn.metrics import roc_auc_score\n",
    "from sklearn import svm\n",
    "from sklearn.model_selection import train_test_split\n",
    "from sklearn.model_selection import cross_val_score\n",
    "\n",
    "\n",
    "%matplotlib inline"
   ]
  },
  {
   "cell_type": "code",
   "execution_count": 2,
   "metadata": {
    "collapsed": true
   },
   "outputs": [],
   "source": [
    "filelist = [\"calcium_data/140708B_140811a_result\", \n",
    "            \"calcium_data/140909C_141112a_result\", \n",
    "            \"calcium_data/141006C_141121a_result\",\n",
    "            \"calcium_data/150109A_150302a_result\", \n",
    "            \"calcium_data/151122A_160202a_result\", \n",
    "            \"calcium_data/151122B_160207a_result\", \n",
    "            \"calcium_data/160209A_160430a_result\", \n",
    "            \"calcium_data/160209B_160428a_result\"]"
   ]
  },
  {
   "cell_type": "code",
   "execution_count": 87,
   "metadata": {
    "collapsed": false
   },
   "outputs": [
    {
     "name": "stdout",
     "output_type": "stream",
     "text": [
      "For recording site 0: accuracy:  0.85 (+/-  0.14)\n",
      "For recording site 1: accuracy:  0.80 (+/-  0.14)\n",
      "For recording site 2: accuracy:  0.42 (+/-  0.10)\n",
      "For recording site 3: accuracy:  0.60 (+/-  0.24)\n",
      "For recording site 4: accuracy:  0.52 (+/-  0.10)\n",
      "For recording site 5: accuracy:  0.45 (+/-  0.11)\n",
      "For recording site 6: accuracy:  0.55 (+/-  0.14)\n",
      "For recording site 7: accuracy:  0.52 (+/-  0.05)\n",
      "For recording site 8: accuracy:  0.71 (+/-  0.16)\n",
      "For recording site 9: accuracy:  0.48 (+/-  0.05)\n",
      "For recording site 10: accuracy:  0.59 (+/-  0.12)\n",
      "For recording site 11: accuracy:  0.54 (+/-  0.16)\n",
      "For recording site 12: accuracy:  0.47 (+/-  0.05)\n",
      "For recording site 13: accuracy:  0.56 (+/-  0.04)\n",
      "For recording site 14: accuracy:  0.54 (+/-  0.12)\n",
      "For recording site 15: accuracy:  0.53 (+/-  0.14)\n",
      "For recording site 16: accuracy:  0.53 (+/-  0.10)\n",
      "For recording site 17: accuracy:  0.62 (+/-  0.19)\n",
      "For recording site 18: accuracy:  0.58 (+/-  0.14)\n",
      "For recording site 19: accuracy:  0.51 (+/-  0.16)\n",
      "For recording site 20: accuracy:  0.57 (+/-  0.14)\n",
      "For recording site 21: accuracy:  0.49 (+/-  0.04)\n",
      "For recording site 22: accuracy:  0.52 (+/-  0.16)\n",
      "For recording site 23: accuracy:  0.49 (+/-  0.12)\n",
      "For recording site 24: accuracy:  0.60 (+/-  0.11)\n",
      "For recording site 25: accuracy:  0.55 (+/-  0.15)\n",
      "For recording site 26: accuracy:  0.55 (+/-  0.11)\n",
      "For recording site 27: accuracy:  0.55 (+/-  0.21)\n",
      "For recording site 28: accuracy:  0.78 (+/-  0.22)\n",
      "For recording site 29: accuracy:  0.53 (+/-  0.17)\n",
      "For recording site 30: accuracy:  0.43 (+/-  0.16)\n",
      "For recording site 31: accuracy:  0.59 (+/-  0.13)\n",
      "For recording site 32: accuracy:  0.56 (+/-  0.19)\n",
      "For recording site 33: accuracy:  0.78 (+/-  0.17)\n",
      "For recording site 34: accuracy:  0.52 (+/-  0.22)\n",
      "For recording site 35: accuracy:  0.49 (+/-  0.12)\n",
      "For recording site 36: accuracy:  0.50 (+/-  0.00)\n",
      "For recording site 37: accuracy:  0.50 (+/-  0.06)\n",
      "For recording site 38: accuracy:  0.52 (+/-  0.08)\n",
      "For recording site 39: accuracy:  0.45 (+/-  0.13)\n",
      "For recording site 40: accuracy:  0.49 (+/-  0.04)\n",
      "For recording site 41: accuracy:  0.53 (+/-  0.05)\n",
      "For recording site 42: accuracy:  0.44 (+/-  0.16)\n",
      "For recording site 43: accuracy:  0.47 (+/-  0.12)\n",
      "For recording site 44: accuracy:  0.63 (+/-  0.14)\n",
      "For recording site 45: accuracy:  0.56 (+/-  0.15)\n",
      "For recording site 46: accuracy:  0.51 (+/-  0.04)\n",
      "For recording site 47: accuracy:  0.49 (+/-  0.04)\n",
      "For recording site 48: accuracy:  0.70 (+/-  0.14)\n",
      "For recording site 49: accuracy:  0.52 (+/-  0.10)\n",
      "For recording site 50: accuracy:  0.74 (+/-  0.15)\n",
      "For recording site 51: accuracy:  0.51 (+/-  0.13)\n",
      "For recording site 52: accuracy:  0.52 (+/-  0.16)\n",
      "For recording site 53: accuracy:  0.69 (+/-  0.13)\n",
      "For recording site 54: accuracy:  0.45 (+/-  0.06)\n",
      "For recording site 55: accuracy:  0.55 (+/-  0.17)\n",
      "For recording site 56: accuracy:  0.46 (+/-  0.07)\n",
      "For recording site 57: accuracy:  0.52 (+/-  0.10)\n",
      "For recording site 58: accuracy:  0.52 (+/-  0.05)\n",
      "For recording site 59: accuracy:  0.54 (+/-  0.10)\n",
      "For recording site 60: accuracy:  0.59 (+/-  0.22)\n",
      "For recording site 61: accuracy:  0.55 (+/-  0.11)\n",
      "For recording site 62: accuracy:  0.56 (+/-  0.18)\n",
      "For recording site 63: accuracy:  0.54 (+/-  0.13)\n",
      "For recording site 64: accuracy:  0.53 (+/-  0.05)\n",
      "For recording site 65: accuracy:  0.53 (+/-  0.05)\n",
      "For recording site 66: accuracy:  0.83 (+/-  0.15)\n",
      "For recording site 67: accuracy:  0.44 (+/-  0.10)\n",
      "For recording site 68: accuracy:  0.48 (+/-  0.15)\n",
      "For recording site 69: accuracy:  0.63 (+/-  0.15)\n",
      "For recording site 70: accuracy:  0.53 (+/-  0.08)\n",
      "For recording site 71: accuracy:  0.47 (+/-  0.17)\n",
      "For recording site 72: accuracy:  0.54 (+/-  0.13)\n",
      "For recording site 73: accuracy:  0.45 (+/-  0.15)\n",
      "For recording site 74: accuracy:  0.55 (+/-  0.17)\n",
      "For recording site 75: accuracy:  0.79 (+/-  0.25)\n",
      "For recording site 76: accuracy:  0.55 (+/-  0.09)\n",
      "For recording site 77: accuracy:  0.46 (+/-  0.15)\n",
      "For recording site 78: accuracy:  0.50 (+/-  0.06)\n",
      "For recording site 79: accuracy:  0.47 (+/-  0.14)\n",
      "For recording site 80: accuracy:  0.69 (+/-  0.13)\n",
      "For recording site 81: accuracy:  0.45 (+/-  0.22)\n",
      "For recording site 82: accuracy:  0.56 (+/-  0.16)\n",
      "For recording site 83: accuracy:  0.49 (+/-  0.04)\n",
      "For recording site 84: accuracy:  0.58 (+/-  0.15)\n",
      "For recording site 85: accuracy:  0.51 (+/-  0.15)\n",
      "For recording site 86: accuracy:  0.50 (+/-  0.11)\n",
      "For recording site 87: accuracy:  0.57 (+/-  0.14)\n",
      "For recording site 88: accuracy:  0.51 (+/-  0.12)\n",
      "For recording site 89: accuracy:  0.55 (+/-  0.15)\n",
      "For recording site 90: accuracy:  0.50 (+/-  0.11)\n",
      "For recording site 91: accuracy:  0.52 (+/-  0.05)\n",
      "For recording site 92: accuracy:  0.48 (+/-  0.10)\n",
      "For recording site 93: accuracy:  0.51 (+/-  0.07)\n",
      "For recording site 94: accuracy:  0.46 (+/-  0.12)\n",
      "For recording site 95: accuracy:  0.48 (+/-  0.14)\n",
      "For recording site 96: accuracy:  0.59 (+/-  0.17)\n",
      "For recording site 97: accuracy:  0.81 (+/-  0.12)\n",
      "For recording site 98: accuracy:  0.53 (+/-  0.08)\n",
      "For recording site 99: accuracy:  0.46 (+/-  0.10)\n",
      "For recording site 100: accuracy:  0.50 (+/-  0.00)\n",
      "For recording site 101: accuracy:  0.50 (+/-  0.11)\n",
      "For recording site 102: accuracy:  0.51 (+/-  0.15)\n",
      "For recording site 103: accuracy:  0.55 (+/-  0.18)\n",
      "For recording site 104: accuracy:  0.48 (+/-  0.05)\n",
      "For recording site 105: accuracy:  0.72 (+/-  0.16)\n",
      "For recording site 106: accuracy:  0.66 (+/-  0.19)\n",
      "For recording site 107: accuracy:  0.67 (+/-  0.17)\n",
      "For recording site 108: accuracy:  0.52 (+/-  0.10)\n",
      "For recording site 109: accuracy:  0.90 (+/-  0.21)\n",
      "For recording site 110: accuracy:  0.49 (+/-  0.04)\n",
      "For recording site 111: accuracy:  0.83 (+/-  0.19)\n",
      "For recording site 112: accuracy:  0.48 (+/-  0.05)\n",
      "For recording site 113: accuracy:  0.44 (+/-  0.16)\n",
      "For recording site 114: accuracy:  0.82 (+/-  0.14)\n"
     ]
    }
   ],
   "source": [
    "filename =filelist[0]\n",
    "f = h5py.File(filename+\".hdf5\", \"r\")\n",
    "amp = 3\n",
    "\n",
    "stims = np.unique(h5py.File(filename+\".hdf5\", \"r\")['meta'][:,1])[1:]        #exclude zero\n",
    "\n",
    "assert(amp in list(stims)), \"this stimAmp was not used in chosen experiment. Cose one from {}.\".format(stims)\n",
    "\n",
    "test_size = 0.33\n",
    "svm_kernel = 'linear'\n",
    "baseav = False\n",
    "\n",
    "n_dendrites = h5py.File(filename+\".hdf5\", \"r\")['data'].shape[1]\n",
    "\n",
    "clf = svm.SVC(kernel=svm_kernel)\n",
    "\n",
    "means = []\n",
    "stds = []\n",
    "for site in range(n_dendrites):\n",
    "\n",
    "    data = f['data']\n",
    "    meta = f['meta']\n",
    "\n",
    "    baseline = np.mean(data[:,:,:58], axis=2).reshape(data.shape[0], data.shape[1], 1)\n",
    "    if baseav == True:\n",
    "        baseline = np.mean(baseline, axis=0)\n",
    "\n",
    "    mn_dnd_chng = np.mean(data[:,:,58:116]-baseline, axis=2)\n",
    "\n",
    "    present_mask = meta[:,1]==amp\n",
    "    absent_mask = meta[:,1]==0\n",
    "\n",
    "    trials_mask = np.logical_or(present_mask, absent_mask)\n",
    "\n",
    "    y_score = mn_dnd_chng[trials_mask, site]\n",
    "\n",
    "    amp_mask = meta[:,1][trials_mask]==amp\n",
    "    y_true = (amp_mask-0.5)*2\n",
    "    X_train, X_test, y_train, y_test = train_test_split(y_score, y_true, test_size=test_size)\n",
    "    \n",
    "    #clf.fit(X_train.reshape(X_train.shape[0], 1), y_train.reshape(y_train.shape[0], 1))\n",
    "    scores = cross_val_score(clf, y_score.reshape(y_score.shape[0], 1), y_true.reshape(y_true.shape[0]), cv=5)\n",
    "    mean = scores.mean()\n",
    "    stdv = scores.std()\n",
    "    means.append(mean)\n",
    "    stds.append(stdv)\n",
    "                             \n",
    "    print(\"For recording site {0}: accuracy: {1: .2f} (+/- {2: .2f})\".format(site, mean, stdv*2))"
   ]
  },
  {
   "cell_type": "code",
   "execution_count": 90,
   "metadata": {
    "collapsed": false
   },
   "outputs": [
    {
     "name": "stdout",
     "output_type": "stream",
     "text": [
      "6 recordings sites best for classification:\n",
      "At recording site 109: accuracy:  0.90 (+/-  0.21)\n",
      "At recording site 0: accuracy:  0.85 (+/-  0.14)\n",
      "At recording site 66: accuracy:  0.83 (+/-  0.15)\n",
      "At recording site 111: accuracy:  0.83 (+/-  0.19)\n",
      "At recording site 114: accuracy:  0.82 (+/-  0.14)\n",
      "At recording site 97: accuracy:  0.81 (+/-  0.12)\n"
     ]
    }
   ],
   "source": [
    "n_out = 6\n",
    "inds = np.argsort(means)[::-1]\n",
    "\n",
    "print(\"{} recordings sites best for classification:\".format(n_out))\n",
    "for i in range(n_out):\n",
    "    print(\"At recording site {0}: accuracy: {1: .2f} (+/- {2: .2f})\".format(inds[i], means[inds[i]], stds[inds[i]]*2))"
   ]
  },
  {
   "cell_type": "code",
   "execution_count": 91,
   "metadata": {
    "collapsed": false
   },
   "outputs": [
    {
     "data": {
      "text/plain": [
       "(0, 1)"
      ]
     },
     "execution_count": 91,
     "metadata": {},
     "output_type": "execute_result"
    },
    {
     "data": {
      "image/png": "[encoded data removed]",
      "text/plain": [
       "<matplotlib.figure.Figure at 0x7fa20ffa70b8>"
      ]
     },
     "metadata": {},
     "output_type": "display_data"
    }
   ],
   "source": [
    "means = np.asarray(means)\n",
    "\n",
    "lo_mask = means <= 0.3\n",
    "mid_mask = np.logical_and(means >0.3, means < 0.7)\n",
    "hi_mask = means >= 0.7\n",
    "\n",
    "plt.hist(means[lo_mask], bins=50, range=(-1,1), label='class. perf. <= 0.3')\n",
    "plt.hist(means[mid_mask], bins=50, range=(-1,1), label='0.7 > c.p. > 0.3')\n",
    "plt.hist(means[hi_mask], bins=50, range=(-1,1), label='c.p. >= 0.7')\n",
    "plt.legend(frameon=False)\n",
    "plt.xlim(0,1)"
   ]
  },
  {
   "cell_type": "code",
   "execution_count": 115,
   "metadata": {
    "collapsed": false
   },
   "outputs": [],
   "source": [
    "filename = filelist[0]\n",
    "\n",
    "f = h5py.File(filename+\".hdf5\", \"r\")\n",
    "stims = np.unique(f['meta'][:,1])[1:]        #exclude zero\n",
    "test_size = 0.33\n",
    "svm_kernel = 'linear'\n",
    "baseav = False\n",
    "\n",
    "sc = []\n",
    "for amp in stims:\n",
    "    #average delta F\n",
    "    #1s = 58 frames\n",
    "    data = f['data']\n",
    "    meta = f['meta']\n",
    "\n",
    "    baseline = np.mean(data[:,:,:58], axis=2).reshape(data.shape[0], data.shape[1], 1)\n",
    "    if baseav == True:\n",
    "        baseline = np.mean(baseline, axis=0)\n",
    "\n",
    "    mn_dnd_chng = np.mean(data[:,:,58:116]-baseline, axis=2)\n",
    "\n",
    "    present_mask = meta[:,1]==amp\n",
    "    absent_mask = meta[:,1]==0\n",
    "\n",
    "    trials_mask = np.logical_or(present_mask, absent_mask)\n",
    "\n",
    "    y_score = mn_dnd_chng[trials_mask, :]\n",
    "\n",
    "    amp_mask = meta[:,1][trials_mask]==amp\n",
    "    y_true = (amp_mask-0.5)*2\n",
    "\n",
    "    n_dendrites = h5py.File(filename+\".hdf5\", \"r\")['data'].shape[1]\n",
    "\n",
    "    clf = svm.SVC(kernel=svm_kernel)\n",
    "    scores = cross_val_score(clf, y_score, y_true.reshape(y_true.shape[0]), cv=10)\n",
    "    sc.append(scores)"
   ]
  },
  {
   "cell_type": "code",
   "execution_count": 116,
   "metadata": {
    "collapsed": false
   },
   "outputs": [
    {
     "name": "stdout",
     "output_type": "stream",
     "text": [
      "For stimApm  0.50: accuracy:  0.46 (+/-  0.13)\n",
      "For stimApm  1.00: accuracy:  0.66 (+/-  0.24)\n",
      "For stimApm  1.50: accuracy:  0.68 (+/-  0.15)\n",
      "For stimApm  2.00: accuracy:  0.79 (+/-  0.30)\n",
      "For stimApm  2.50: accuracy:  0.83 (+/-  0.28)\n",
      "For stimApm  3.00: accuracy:  0.95 (+/-  0.16)\n"
     ]
    }
   ],
   "source": [
    "for k, scores in enumerate(sc):\n",
    "    print(\"For stimApm {0: .2f}: accuracy: {1: .2f} (+/- {2: .2f})\".format(stims[k], np.mean(scores), 2*np.std(scores)))"
   ]
  },
  {
   "cell_type": "code",
   "execution_count": 117,
   "metadata": {
    "collapsed": false
   },
   "outputs": [
    {
     "data": {
      "text/plain": [
       "<Container object of 3 artists>"
      ]
     },
     "execution_count": 117,
     "metadata": {},
     "output_type": "execute_result"
    },
    {
     "data": {
      "image/png": "[encoded data removed]",
      "text/plain": [
       "<matplotlib.figure.Figure at 0x7fa20ffc2e10>"
      ]
     },
     "metadata": {},
     "output_type": "display_data"
    }
   ],
   "source": [
    "sc = np.array(sc)\n",
    "means = np.mean(sc, axis=1)\n",
    "std = np.std(sc, axis=1)\n",
    "\n",
    "plt.errorbar(stims, means, yerr=std, fmt='--o')"
   ]
  },
  {
   "cell_type": "code",
   "execution_count": null,
   "metadata": {
    "collapsed": true
   },
   "outputs": [],
   "source": []
  }
 ],
 "metadata": {
  "anaconda-cloud": {},
  "kernelspec": {
   "display_name": "Python 3",
   "language": "python",
   "name": "python3"
  },
  "language_info": {
   "codemirror_mode": {
    "name": "ipython",
    "version": 3
   },
   "file_extension": ".py",
   "mimetype": "text/x-python",
   "name": "python",
   "nbconvert_exporter": "python",
   "pygments_lexer": "ipython3",
   "version": "3.6.0"
  }
 },
 "nbformat": 4,
 "nbformat_minor": 2
}
