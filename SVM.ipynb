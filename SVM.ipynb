{
 "cells": [
  {
   "cell_type": "code",
   "execution_count": 158,
   "metadata": {
    "collapsed": true
   },
   "outputs": [],
   "source": [
    "from scipy.io import loadmat\n",
    "import h5py\n",
    "import numpy as np\n",
    "import matplotlib.pyplot as plt\n",
    "from sklearn.metrics import auc\n",
    "from sklearn.metrics import roc_curve\n",
    "from sklearn.metrics import roc_auc_score\n",
    "from sklearn import svm\n",
    "from sklearn.model_selection import train_test_split\n",
    "from sklearn.model_selection import cross_val_score\n",
    "\n",
    "\n",
    "%matplotlib inline"
   ]
  },
  {
   "cell_type": "code",
   "execution_count": 36,
   "metadata": {
    "collapsed": true
   },
   "outputs": [],
   "source": [
    "filelist = [\"calcium_data/140708B_140811a_result\", \n",
    "            \"calcium_data/140909C_141112a_result\", \n",
    "            \"calcium_data/141006C_141121a_result\",\n",
    "            \"calcium_data/150109A_150302a_result\", \n",
    "            \"calcium_data/151122A_160202a_result\", \n",
    "            \"calcium_data/151122B_160207a_result\", \n",
    "            \"calcium_data/160209A_160430a_result\", \n",
    "            \"calcium_data/160209B_160428a_result\"]"
   ]
  },
  {
   "cell_type": "code",
   "execution_count": 37,
   "metadata": {
    "collapsed": true
   },
   "outputs": [],
   "source": [
    "filename = filelist[0]\n",
    "f = h5py.File(filename+\".hdf5\", \"r\")"
   ]
  },
  {
   "cell_type": "code",
   "execution_count": 139,
   "metadata": {
    "collapsed": false
   },
   "outputs": [],
   "source": [
    "amp = 2\n",
    "site = 46\n",
    "\n",
    "#average delta F\n",
    "#1s = 58 frames\n",
    "data = f['data']\n",
    "meta = f['meta']\n",
    "\n",
    "mn_dnd_chng = np.mean(data[:,:,58:116], axis=2)\n",
    "\n",
    "present_mask = meta[:,1]==amp\n",
    "absent_mask = meta[:,1]==0\n",
    "    \n",
    "trials_mask = np.logical_or(present_mask, absent_mask)\n",
    "    \n",
    "y_score = mn_dnd_chng[trials_mask, site]\n",
    "    \n",
    "amp_mask = meta[:,1][trials_mask]==amp\n",
    "y_true = (amp_mask-0.5)*2"
   ]
  },
  {
   "cell_type": "code",
   "execution_count": 140,
   "metadata": {
    "collapsed": false
   },
   "outputs": [
    {
     "data": {
      "text/plain": [
       "<matplotlib.collections.PathCollection at 0x7f149ebf29b0>"
      ]
     },
     "execution_count": 140,
     "metadata": {},
     "output_type": "execute_result"
    },
    {
     "data": {
      "image/png": "[encoded data removed]",
      "text/plain": [
       "<matplotlib.figure.Figure at 0x7f149ee86550>"
      ]
     },
     "metadata": {},
     "output_type": "display_data"
    }
   ],
   "source": [
    "plt.scatter(y_score[y_true==1], np.zeros(y_score[y_true==1].shape[0]), alpha=0.5)\n",
    "plt.scatter(y_score[y_true==-1], np.zeros(y_score[y_true==-1].shape[0]), alpha=0.5)"
   ]
  },
  {
   "cell_type": "code",
   "execution_count": 141,
   "metadata": {
    "collapsed": true
   },
   "outputs": [],
   "source": [
    "X_train, X_test, y_train, y_test = train_test_split(y_score, y_true, test_size=0.33)"
   ]
  },
  {
   "cell_type": "code",
   "execution_count": 142,
   "metadata": {
    "collapsed": false
   },
   "outputs": [
    {
     "name": "stderr",
     "output_type": "stream",
     "text": [
      "/home/georg/anaconda3/lib/python3.6/site-packages/sklearn/utils/validation.py:526: DataConversionWarning: A column-vector y was passed when a 1d array was expected. Please change the shape of y to (n_samples, ), for example using ravel().\n",
      "  y = column_or_1d(y, warn=True)\n"
     ]
    },
    {
     "data": {
      "text/plain": [
       "SVC(C=1.0, cache_size=200, class_weight=None, coef0=0.0,\n",
       "  decision_function_shape=None, degree=3, gamma='auto', kernel='rbf',\n",
       "  max_iter=-1, probability=False, random_state=None, shrinking=True,\n",
       "  tol=0.001, verbose=False)"
      ]
     },
     "execution_count": 142,
     "metadata": {},
     "output_type": "execute_result"
    }
   ],
   "source": [
    "clf = svm.SVC()\n",
    "clf.fit(X_train.reshape(X_train.shape[0], 1), y_train.reshape(y_train.shape[0], 1))"
   ]
  },
  {
   "cell_type": "code",
   "execution_count": 143,
   "metadata": {
    "collapsed": false,
    "scrolled": true
   },
   "outputs": [
    {
     "name": "stdout",
     "output_type": "stream",
     "text": [
      "[-1. -1. -1. -1. -1. -1. -1.  1. -1. -1. -1. -1. -1. -1. -1. -1.  1. -1.\n",
      " -1. -1.  1. -1.  1. -1.  1. -1. -1. -1. -1. -1.  1. -1.  1.]\n",
      "[ 1.  1. -1.  1.  1.  1.  1. -1.  1.  1.  1. -1. -1. -1. -1.  1.  1.  1.\n",
      "  1.  1. -1.  1.  1. -1. -1. -1.  1. -1.  1. -1. -1. -1.  1.]\n",
      "0.393939393939\n"
     ]
    }
   ],
   "source": [
    "pred = clf.predict(X_test.reshape(X_test.shape[0], 1))\n",
    "params = clf.get_params()\n",
    "print(pred)\n",
    "print(y_test)\n",
    "print(np.sum(pred == y_test)/y_test.shape[0])"
   ]
  },
  {
   "cell_type": "code",
   "execution_count": 64,
   "metadata": {
    "collapsed": false
   },
   "outputs": [
    {
     "data": {
      "text/plain": [
       "{'C': 1.0,\n",
       " 'cache_size': 200,\n",
       " 'class_weight': None,\n",
       " 'coef0': 0.0,\n",
       " 'decision_function_shape': None,\n",
       " 'degree': 3,\n",
       " 'gamma': 'auto',\n",
       " 'kernel': 'rbf',\n",
       " 'max_iter': -1,\n",
       " 'probability': False,\n",
       " 'random_state': None,\n",
       " 'shrinking': True,\n",
       " 'tol': 0.001,\n",
       " 'verbose': False}"
      ]
     },
     "execution_count": 64,
     "metadata": {},
     "output_type": "execute_result"
    }
   ],
   "source": [
    "params"
   ]
  },
  {
   "cell_type": "code",
   "execution_count": 150,
   "metadata": {
    "collapsed": true
   },
   "outputs": [],
   "source": [
    "amp = 2\n",
    "\n",
    "#average delta F\n",
    "#1s = 58 frames\n",
    "data = f['data']\n",
    "meta = f['meta']\n",
    "\n",
    "mn_dnd_chng = np.mean(data[:,:,58:116], axis=2)\n",
    "\n",
    "present_mask = meta[:,1]==amp\n",
    "absent_mask = meta[:,1]==0\n",
    "    \n",
    "trials_mask = np.logical_or(present_mask, absent_mask)\n",
    "    \n",
    "y_score = mn_dnd_chng[trials_mask, :]\n",
    "    \n",
    "amp_mask = meta[:,1][trials_mask]==amp\n",
    "y_true = (amp_mask-0.5)*2"
   ]
  },
  {
   "cell_type": "code",
   "execution_count": 151,
   "metadata": {
    "collapsed": false
   },
   "outputs": [],
   "source": [
    "X_train, X_test, y_train, y_test = train_test_split(y_score, y_true, test_size=0.33)"
   ]
  },
  {
   "cell_type": "code",
   "execution_count": 152,
   "metadata": {
    "collapsed": false
   },
   "outputs": [
    {
     "name": "stderr",
     "output_type": "stream",
     "text": [
      "/home/georg/anaconda3/lib/python3.6/site-packages/sklearn/utils/validation.py:526: DataConversionWarning: A column-vector y was passed when a 1d array was expected. Please change the shape of y to (n_samples, ), for example using ravel().\n",
      "  y = column_or_1d(y, warn=True)\n"
     ]
    },
    {
     "data": {
      "text/plain": [
       "SVC(C=1.0, cache_size=200, class_weight=None, coef0=0.0,\n",
       "  decision_function_shape=None, degree=3, gamma='auto', kernel='poly',\n",
       "  max_iter=-1, probability=False, random_state=None, shrinking=True,\n",
       "  tol=0.001, verbose=False)"
      ]
     },
     "execution_count": 152,
     "metadata": {},
     "output_type": "execute_result"
    }
   ],
   "source": [
    "clf = svm.SVC(kernel='poly')\n",
    "clf.fit(X_train, y_train.reshape(y_train.shape[0], 1))"
   ]
  },
  {
   "cell_type": "code",
   "execution_count": 153,
   "metadata": {
    "collapsed": false
   },
   "outputs": [
    {
     "name": "stdout",
     "output_type": "stream",
     "text": [
      "[ 1.  1. -1.  1.  1.  1.  1.  1. -1.  1.  1. -1.  1. -1.  1. -1. -1. -1.\n",
      " -1.  1.  1.  1.  1. -1. -1. -1. -1. -1.  1. -1. -1. -1. -1.]\n",
      "[ 1.  1. -1.  1.  1.  1. -1.  1. -1.  1.  1.  1.  1. -1.  1.  1. -1. -1.\n",
      "  1. -1. -1.  1.  1. -1. -1.  1. -1. -1.  1.  1. -1.  1. -1.]\n",
      "0.727272727273\n"
     ]
    }
   ],
   "source": [
    "pred = clf.predict(X_test)\n",
    "params = clf.get_params()\n",
    "print(pred)\n",
    "print(y_test)\n",
    "print(np.sum(pred == y_test)/y_test.shape[0])"
   ]
  },
  {
   "cell_type": "code",
   "execution_count": 156,
   "metadata": {
    "collapsed": false
   },
   "outputs": [
    {
     "data": {
      "text/plain": [
       "<matplotlib.collections.PathCollection at 0x7f149e983e10>"
      ]
     },
     "execution_count": 156,
     "metadata": {},
     "output_type": "execute_result"
    },
    {
     "data": {
      "image/png": "[encoded data removed]",
      "text/plain": [
       "<matplotlib.figure.Figure at 0x7f149ea02668>"
      ]
     },
     "metadata": {},
     "output_type": "display_data"
    }
   ],
   "source": [
    "dim1 = np.random.randint(100)\n",
    "dim2 = np.random.randint(100)\n",
    "plt.scatter(y_score[:,dim1][y_true==1], y_score[:,dim2][y_true==1])\n",
    "plt.scatter(y_score[:,dim1][y_true==-1], y_score[:,dim2][y_true==-1])"
   ]
  },
  {
   "cell_type": "code",
   "execution_count": 163,
   "metadata": {
    "collapsed": false
   },
   "outputs": [
    {
     "data": {
      "text/plain": [
       "(100, 115)"
      ]
     },
     "execution_count": 163,
     "metadata": {},
     "output_type": "execute_result"
    }
   ],
   "source": [
    "y_score.shape"
   ]
  },
  {
   "cell_type": "code",
   "execution_count": 172,
   "metadata": {
    "collapsed": false
   },
   "outputs": [
    {
     "name": "stdout",
     "output_type": "stream",
     "text": [
      "For recording site 0: accuracy:  0.52 (+/-  0.04)\n",
      "For recording site 1: accuracy:  0.53 (+/-  0.23)\n",
      "For recording site 2: accuracy:  0.48 (+/-  0.10)\n",
      "For recording site 3: accuracy:  0.52 (+/-  0.06)\n",
      "For recording site 4: accuracy:  0.55 (+/-  0.08)\n",
      "For recording site 5: accuracy:  0.51 (+/-  0.06)\n",
      "For recording site 6: accuracy:  0.54 (+/-  0.08)\n",
      "For recording site 7: accuracy:  0.55 (+/-  0.11)\n",
      "For recording site 8: accuracy:  0.46 (+/-  0.10)\n",
      "For recording site 9: accuracy:  0.51 (+/-  0.03)\n",
      "For recording site 10: accuracy:  0.55 (+/-  0.10)\n",
      "For recording site 11: accuracy:  0.60 (+/-  0.06)\n",
      "For recording site 12: accuracy:  0.48 (+/-  0.06)\n",
      "For recording site 13: accuracy:  0.51 (+/-  0.09)\n",
      "For recording site 14: accuracy:  0.49 (+/-  0.12)\n",
      "For recording site 15: accuracy:  0.52 (+/-  0.06)\n",
      "For recording site 16: accuracy:  0.54 (+/-  0.00)\n",
      "For recording site 17: accuracy:  0.46 (+/-  0.15)\n",
      "For recording site 18: accuracy:  0.55 (+/-  0.08)\n",
      "For recording site 19: accuracy:  0.54 (+/-  0.00)\n",
      "For recording site 20: accuracy:  0.46 (+/-  0.15)\n",
      "For recording site 21: accuracy:  0.49 (+/-  0.03)\n",
      "For recording site 22: accuracy:  0.44 (+/-  0.19)\n",
      "For recording site 23: accuracy:  0.54 (+/-  0.05)\n",
      "For recording site 24: accuracy:  0.66 (+/-  0.19)\n",
      "For recording site 25: accuracy:  0.57 (+/-  0.03)\n",
      "For recording site 26: accuracy:  0.57 (+/-  0.13)\n",
      "For recording site 27: accuracy:  0.49 (+/-  0.06)\n",
      "For recording site 28: accuracy:  0.66 (+/-  0.20)\n",
      "For recording site 29: accuracy:  0.56 (+/-  0.20)\n",
      "For recording site 30: accuracy:  0.58 (+/-  0.17)\n",
      "For recording site 31: accuracy:  0.51 (+/-  0.10)\n",
      "For recording site 32: accuracy:  0.51 (+/-  0.15)\n",
      "For recording site 33: accuracy:  0.55 (+/-  0.14)\n",
      "For recording site 34: accuracy:  0.48 (+/-  0.09)\n",
      "For recording site 35: accuracy:  0.43 (+/-  0.15)\n",
      "For recording site 36: accuracy:  0.50 (+/-  0.15)\n",
      "For recording site 37: accuracy:  0.51 (+/-  0.13)\n",
      "For recording site 38: accuracy:  0.49 (+/-  0.19)\n",
      "For recording site 39: accuracy:  0.54 (+/-  0.00)\n",
      "For recording site 40: accuracy:  0.52 (+/-  0.15)\n",
      "For recording site 41: accuracy:  0.55 (+/-  0.16)\n",
      "For recording site 42: accuracy:  0.49 (+/-  0.07)\n",
      "For recording site 43: accuracy:  0.52 (+/-  0.18)\n",
      "For recording site 44: accuracy:  0.54 (+/-  0.15)\n",
      "For recording site 45: accuracy:  0.49 (+/-  0.03)\n",
      "For recording site 46: accuracy:  0.46 (+/-  0.13)\n",
      "For recording site 47: accuracy:  0.57 (+/-  0.13)\n",
      "For recording site 48: accuracy:  0.55 (+/-  0.11)\n",
      "For recording site 49: accuracy:  0.54 (+/-  0.00)\n",
      "For recording site 50: accuracy:  0.45 (+/-  0.06)\n",
      "For recording site 51: accuracy:  0.57 (+/-  0.03)\n",
      "For recording site 52: accuracy:  0.41 (+/-  0.17)\n",
      "For recording site 53: accuracy:  0.55 (+/-  0.03)\n",
      "For recording site 54: accuracy:  0.51 (+/-  0.12)\n",
      "For recording site 55: accuracy:  0.52 (+/-  0.15)\n",
      "For recording site 56: accuracy:  0.54 (+/-  0.00)\n",
      "For recording site 57: accuracy:  0.48 (+/-  0.11)\n",
      "For recording site 58: accuracy:  0.48 (+/-  0.09)\n",
      "For recording site 59: accuracy:  0.56 (+/-  0.24)\n",
      "For recording site 60: accuracy:  0.55 (+/-  0.18)\n",
      "For recording site 61: accuracy:  0.49 (+/-  0.09)\n",
      "For recording site 62: accuracy:  0.55 (+/-  0.18)\n",
      "For recording site 63: accuracy:  0.54 (+/-  0.00)\n",
      "For recording site 64: accuracy:  0.54 (+/-  0.00)\n",
      "For recording site 65: accuracy:  0.52 (+/-  0.10)\n",
      "For recording site 66: accuracy:  0.68 (+/-  0.20)\n",
      "For recording site 67: accuracy:  0.45 (+/-  0.09)\n",
      "For recording site 68: accuracy:  0.48 (+/-  0.06)\n",
      "For recording site 69: accuracy:  0.51 (+/-  0.12)\n",
      "For recording site 70: accuracy:  0.49 (+/-  0.16)\n",
      "For recording site 71: accuracy:  0.46 (+/-  0.10)\n",
      "For recording site 72: accuracy:  0.51 (+/-  0.03)\n",
      "For recording site 73: accuracy:  0.55 (+/-  0.17)\n",
      "For recording site 74: accuracy:  0.58 (+/-  0.09)\n",
      "For recording site 75: accuracy:  0.60 (+/-  0.07)\n",
      "For recording site 76: accuracy:  0.52 (+/-  0.04)\n",
      "For recording site 77: accuracy:  0.55 (+/-  0.03)\n",
      "For recording site 78: accuracy:  0.57 (+/-  0.03)\n",
      "For recording site 79: accuracy:  0.57 (+/-  0.07)\n",
      "For recording site 80: accuracy:  0.57 (+/-  0.13)\n",
      "For recording site 81: accuracy:  0.52 (+/-  0.14)\n",
      "For recording site 82: accuracy:  0.56 (+/-  0.20)\n",
      "For recording site 83: accuracy:  0.54 (+/-  0.00)\n",
      "For recording site 84: accuracy:  0.55 (+/-  0.09)\n",
      "For recording site 85: accuracy:  0.52 (+/-  0.04)\n",
      "For recording site 86: accuracy:  0.57 (+/-  0.11)\n",
      "For recording site 87: accuracy:  0.55 (+/-  0.03)\n",
      "For recording site 88: accuracy:  0.58 (+/-  0.03)\n",
      "For recording site 89: accuracy:  0.65 (+/-  0.21)\n",
      "For recording site 90: accuracy:  0.44 (+/-  0.09)\n",
      "For recording site 91: accuracy:  0.54 (+/-  0.00)\n",
      "For recording site 92: accuracy:  0.52 (+/-  0.04)\n",
      "For recording site 93: accuracy:  0.55 (+/-  0.03)\n",
      "For recording site 94: accuracy:  0.55 (+/-  0.03)\n",
      "For recording site 95: accuracy:  0.57 (+/-  0.11)\n",
      "For recording site 96: accuracy:  0.49 (+/-  0.03)\n",
      "For recording site 97: accuracy:  0.62 (+/-  0.26)\n",
      "For recording site 98: accuracy:  0.51 (+/-  0.12)\n",
      "For recording site 99: accuracy:  0.51 (+/-  0.07)\n",
      "For recording site 100: accuracy:  0.54 (+/-  0.08)\n",
      "For recording site 101: accuracy:  0.60 (+/-  0.17)\n",
      "For recording site 102: accuracy:  0.54 (+/-  0.08)\n",
      "For recording site 103: accuracy:  0.52 (+/-  0.04)\n",
      "For recording site 104: accuracy:  0.58 (+/-  0.09)\n",
      "For recording site 105: accuracy:  0.54 (+/-  0.00)\n",
      "For recording site 106: accuracy:  0.46 (+/-  0.10)\n",
      "For recording site 107: accuracy:  0.65 (+/-  0.11)\n",
      "For recording site 108: accuracy:  0.51 (+/-  0.06)\n",
      "For recording site 109: accuracy:  0.71 (+/-  0.31)\n",
      "For recording site 110: accuracy:  0.52 (+/-  0.04)\n",
      "For recording site 111: accuracy:  0.67 (+/-  0.19)\n",
      "For recording site 112: accuracy:  0.57 (+/-  0.06)\n",
      "For recording site 113: accuracy:  0.51 (+/-  0.14)\n",
      "For recording site 114: accuracy:  0.55 (+/-  0.06)\n"
     ]
    }
   ],
   "source": [
    "filename =filelist[0]\n",
    "amp = 2\n",
    "test_size = 0.33\n",
    "svm_kernel = 'linear'\n",
    "\n",
    "n_dendrites = h5py.File(filename+\".hdf5\", \"r\")['data'].shape[1]\n",
    "\n",
    "clf = svm.SVC(kernel=svm_kernel)\n",
    "\n",
    "means = []\n",
    "stds = []\n",
    "for site in range(n_dendrites):\n",
    "\n",
    "    data = f['data']\n",
    "    meta = f['meta']\n",
    "\n",
    "    mn_dnd_chng = np.mean(data[:,:,58:116], axis=2)\n",
    "\n",
    "    present_mask = meta[:,1]==amp\n",
    "    absent_mask = meta[:,1]==0\n",
    "\n",
    "    trials_mask = np.logical_or(present_mask, absent_mask)\n",
    "\n",
    "    y_score = mn_dnd_chng[trials_mask, site]\n",
    "\n",
    "    amp_mask = meta[:,1][trials_mask]==amp\n",
    "    y_true = (amp_mask-0.5)*2\n",
    "    \n",
    "    X_train, X_test, y_train, y_test = train_test_split(y_score, y_true, test_size=test_size)\n",
    "    \n",
    "    #clf.fit(X_train.reshape(X_train.shape[0], 1), y_train.reshape(y_train.shape[0], 1))\n",
    "    scores = cross_val_score(clf, X_train.reshape(X_train.shape[0], 1), y_train.reshape(y_train.shape[0]), cv=5)\n",
    "    mean = scores.mean()\n",
    "    stdv = scores.std()\n",
    "    means.append(mean)\n",
    "    stds.append(stdv)\n",
    "                             \n",
    "    print(\"For recording site {0}: accuracy: {1: .2f} (+/- {2: .2f})\".format(site, mean, stdv*2))"
   ]
  },
  {
   "cell_type": "code",
   "execution_count": 182,
   "metadata": {
    "collapsed": false
   },
   "outputs": [
    {
     "data": {
      "text/plain": [
       "(0, 1)"
      ]
     },
     "execution_count": 182,
     "metadata": {},
     "output_type": "execute_result"
    },
    {
     "data": {
      "image/png": "[encoded data removed]",
      "text/plain": [
       "<matplotlib.figure.Figure at 0x7f149e222b00>"
      ]
     },
     "metadata": {},
     "output_type": "display_data"
    }
   ],
   "source": [
    "means = np.asarray(means)\n",
    "\n",
    "lo_mask = means <= 0.3\n",
    "mid_mask = np.logical_and(means >0.3, means < 0.7)\n",
    "hi_mask = means >= 0.7\n",
    "\n",
    "plt.hist(means[lo_mask], bins=50, range=(-1,1), label='class. perf. <= 0.3')\n",
    "plt.hist(means[mid_mask], bins=50, range=(-1,1), label='0.7 > c.p. > 0.3')\n",
    "plt.hist(means[hi_mask], bins=50, range=(-1,1), label='c.p. >= 0.7')\n",
    "plt.legend(frameon=False)\n",
    "plt.xlim(0,1)"
   ]
  },
  {
   "cell_type": "code",
   "execution_count": null,
   "metadata": {
    "collapsed": true
   },
   "outputs": [],
   "source": []
  }
 ],
 "metadata": {
  "kernelspec": {
   "display_name": "Python 3",
   "language": "python",
   "name": "python3"
  },
  "language_info": {
   "codemirror_mode": {
    "name": "ipython",
    "version": 3
   },
   "file_extension": ".py",
   "mimetype": "text/x-python",
   "name": "python",
   "nbconvert_exporter": "python",
   "pygments_lexer": "ipython3",
   "version": "3.6.0"
  }
 },
 "nbformat": 4,
 "nbformat_minor": 2
}
