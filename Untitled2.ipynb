{
 "cells": [
  {
   "cell_type": "code",
   "execution_count": 1,
   "metadata": {
    "collapsed": true
   },
   "outputs": [],
   "source": [
    "from scipy.io import loadmat\n",
    "import h5py\n",
    "import numpy as np\n",
    "import matplotlib.pyplot as plt\n",
    "from sklearn.metrics import auc\n",
    "from sklearn.metrics import roc_curve\n",
    "from sklearn.metrics import roc_auc_score\n",
    "from sklearn import svm\n",
    "from sklearn.model_selection import train_test_split\n",
    "from sklearn.model_selection import cross_val_score\n",
    "from mpl_toolkits.axes_grid1 import make_axes_locatable, axes_size\n",
    "from pylab import cm\n",
    "from matplotlib.colors import ListedColormap\n",
    "import json\n",
    "from sklearn import preprocessing\n",
    "from sklearn.feature_selection import SelectKBest\n",
    "from sklearn.feature_selection import chi2\n",
    "from sklearn.feature_selection import RFECV\n",
    "\n",
    "from rankcorr import rFree, rW, rFree_sym\n",
    "from scipy.stats import spearmanr\n",
    "from scipy.stats import norm\n",
    "\n",
    "from smooth import smoothen\n",
    "%matplotlib inline"
   ]
  },
  {
   "cell_type": "code",
   "execution_count": 2,
   "metadata": {
    "collapsed": true
   },
   "outputs": [],
   "source": [
    "filelist = [\"calcium_data/140708B_140811a_result\", \n",
    "            \"calcium_data/140909C_141112a_result\", \n",
    "            \"calcium_data/141006C_141121a_result\",\n",
    "            \"calcium_data/150109A_150302a_result\", \n",
    "            \"calcium_data/151122A_160202a_result\", \n",
    "            \"calcium_data/151122B_160207a_result\", \n",
    "            \"calcium_data/160209A_160430a_result\", \n",
    "            \"calcium_data/160209B_160428a_result\"]"
   ]
  },
  {
   "cell_type": "code",
   "execution_count": 82,
   "metadata": {
    "collapsed": false
   },
   "outputs": [
    {
     "name": "stdout",
     "output_type": "stream",
     "text": [
      "-0.0991950529125\n",
      "0.0213463332282\n"
     ]
    },
    {
     "data": {
      "image/png": "[encoded data removed]",
      "text/plain": [
       "<matplotlib.figure.Figure at 0x7f609cbc3e10>"
      ]
     },
     "metadata": {},
     "output_type": "display_data"
    }
   ],
   "source": [
    "filename = filelist[0]\n",
    "stims = np.unique(meta[:,1])[1:]\n",
    "amp = stims[5]\n",
    "\n",
    "f = h5py.File(filename+\".hdf5\", \"r\")\n",
    "data = f['data']\n",
    "meta = f['meta']\n",
    "g = h5py.File(filename[:-6]+\"roi.hdf5\", \"r\")\n",
    "motion_mask = (g['inFrameDend'][:].astype(bool)).reshape(g['inFrameDend'].shape[0])\n",
    "\n",
    "baseline = np.mean(data[:,:,:58], axis=2).reshape(data.shape[0], data[:,:,:].shape[1], 1)\n",
    "#baselibe for every trial is the mean over the first second - 58 frames\n",
    "\n",
    "mn_dnd_chng = np.mean(data[:,:,58:116]-baseline, axis=2)\n",
    "#mean dendritic change = second second minus baseline, mean\n",
    "\n",
    "present_mask = meta[:,1]==amp\n",
    "absent_mask = meta[:,1]==0\n",
    "\n",
    "c_1 = mn_dnd_chng[present_mask,:]\n",
    "c_2 = mn_dnd_chng[absent_mask,:]\n",
    "\n",
    "corr_present = np.corrcoef(c_1.T)\n",
    "corr_absent = np.corrcoef(c_2.T)\n",
    "\n",
    "d_list = [109,111,66,97,75,28]\n",
    "msk = np.zeros(corr_present.shape[0]).astype(bool)\n",
    "for d in d_list:\n",
    "    msk[d] = True\n",
    "\n",
    "fig, axes = plt.subplots(1,2)\n",
    "pres = axes[0].imshow(corr_present[msk][:,msk])\n",
    "abse = axes[1].imshow(corr_absent[msk][:,msk])\n",
    "plt.colorbar(pres,ax=axes[0])\n",
    "plt.colorbar(abse,ax=axes[1])\n",
    "\n",
    "#plt.imshow(corr_present, origin='lower')"
   ]
  },
  {
   "cell_type": "code",
   "execution_count": 89,
   "metadata": {
    "collapsed": false
   },
   "outputs": [
    {
     "data": {
      "text/plain": [
       "<matplotlib.colorbar.Colorbar at 0x7f609c8137b8>"
      ]
     },
     "execution_count": 89,
     "metadata": {},
     "output_type": "execute_result"
    },
    {
     "data": {
      "image/png": "[encoded data removed]",
      "text/plain": [
       "<matplotlib.figure.Figure at 0x7f609ddb8f28>"
      ]
     },
     "metadata": {},
     "output_type": "display_data"
    }
   ],
   "source": [
    "filename = filelist[0]\n",
    "stims = np.unique(meta[:,1])[1:]\n",
    "amp = stims[0]\n",
    "\n",
    "f = h5py.File(filename+\".hdf5\", \"r\")\n",
    "data = f['data']\n",
    "meta = f['meta']\n",
    "g = h5py.File(filename[:-6]+\"roi.hdf5\", \"r\")\n",
    "motion_mask = (g['inFrameDend'][:].astype(bool)).reshape(g['inFrameDend'].shape[0])\n",
    "\n",
    "baseline = np.mean(data[:,:,:58], axis=2).reshape(data.shape[0], data[:,:,:].shape[1], 1)\n",
    "#baselibe for every trial is the mean over the first second - 58 frames\n",
    "\n",
    "mn_dnd_chng = np.mean(data[:,:,58:116]-baseline, axis=2)\n",
    "#mean dendritic change = second second minus baseline, mean\n",
    "\n",
    "trials_mask = meta[:,1]==amp\n",
    "#we use only trials with a given stimulus\n",
    "\n",
    "hit_mask = meta[:, 2]==1\n",
    "#mask of hit-trials\n",
    "\n",
    "miss_mask = meta[:,2]==0\n",
    "\n",
    "c_1 = mn_dnd_chng[hit_mask,:]\n",
    "c_2 = mn_dnd_chng[miss_mask,:]\n",
    "\n",
    "corr_present = np.corrcoef(c_1.T)\n",
    "corr_absent = np.corrcoef(c_2.T)\n",
    "\n",
    "d_list = [98, 91, 83, 101, 88, 86]\n",
    "msk = np.zeros(corr_present.shape[0]).astype(bool)\n",
    "for d in d_list:\n",
    "    msk[d] = True\n",
    "\n",
    "fig, axes = plt.subplots(1,2)\n",
    "pres = axes[0].imshow(corr_present[msk][:,msk], origin='lower')\n",
    "abse = axes[1].imshow(corr_absent[msk][:,msk], origin='lower')\n",
    "plt.colorbar(pres,ax=axes[0])\n",
    "plt.colorbar(abse,ax=axes[1])"
   ]
  },
  {
   "cell_type": "code",
   "execution_count": null,
   "metadata": {
    "collapsed": true
   },
   "outputs": [],
   "source": []
  }
 ],
 "metadata": {
  "kernelspec": {
   "display_name": "Python 3",
   "language": "python",
   "name": "python3"
  },
  "language_info": {
   "codemirror_mode": {
    "name": "ipython",
    "version": 3
   },
   "file_extension": ".py",
   "mimetype": "text/x-python",
   "name": "python",
   "nbconvert_exporter": "python",
   "pygments_lexer": "ipython3",
   "version": "3.6.0"
  }
 },
 "nbformat": 4,
 "nbformat_minor": 2
}
