{
 "cells": [
  {
   "cell_type": "code",
   "execution_count": 6,
   "metadata": {
    "collapsed": true
   },
   "outputs": [],
   "source": [
    "from scipy.io import loadmat\n",
    "import h5py\n",
    "import numpy as np\n",
    "import matplotlib.pyplot as plt\n",
    "from sklearn.metrics import auc\n",
    "from sklearn.metrics import roc_curve\n",
    "from sklearn.metrics import roc_auc_score\n",
    "from sklearn import svm\n",
    "from sklearn.model_selection import train_test_split\n",
    "from sklearn.model_selection import cross_val_score\n",
    "\n",
    "from smooth import smoothen\n",
    "\n",
    "\n",
    "%matplotlib inline"
   ]
  },
  {
   "cell_type": "code",
   "execution_count": 4,
   "metadata": {
    "collapsed": true
   },
   "outputs": [],
   "source": [
    "filelist = [\"calcium_data/140708B_140811a_result\", \n",
    "            \"calcium_data/140909C_141112a_result\", \n",
    "            \"calcium_data/141006C_141121a_result\",\n",
    "            \"calcium_data/150109A_150302a_result\", \n",
    "            \"calcium_data/151122A_160202a_result\", \n",
    "            \"calcium_data/151122B_160207a_result\", \n",
    "            \"calcium_data/160209A_160430a_result\", \n",
    "            \"calcium_data/160209B_160428a_result\"]"
   ]
  },
  {
   "cell_type": "markdown",
   "metadata": {},
   "source": [
    "experiemntal parameters:\n",
    "\n",
    "v(0): hit/miss, +1 for hit, -1 for miss\n",
    "\n",
    "v(1): stimulus intensity\n",
    "\n",
    "v(2): rest of variance"
   ]
  },
  {
   "cell_type": "code",
   "execution_count": 50,
   "metadata": {
    "collapsed": true
   },
   "outputs": [],
   "source": [
    "def preprocessing(filename, time='full', windows=None, z_score=True, smooth=True):\n",
    "    '''\n",
    "    Preprocesses the data according to specified parameters\n",
    "    \n",
    "    filename: string, specifies file to use. If None, concatenate all files\n",
    "    time: string\n",
    "        'full' - use full time series of the dendritic Ca2+ signal\n",
    "        'windowed' - use only one point per dendrite, averaged over specified window\n",
    "    windows: ndarray, 7x2 or n_filesx7x2. \n",
    "        Required in windowed mode. Array holds start- and stop times for each stimulus.\n",
    "    z_score: bool, whether to z-score the data. \n",
    "    '''\n",
    "    \n",
    "    assert(not(time=='windowed') or not(windows == None))\n",
    "    \n",
    "    #get the data we need into the format we need\n",
    "    if type(filename) == list:\n",
    "        #create concatenated data, prompt if file already exitsts\n",
    "        #in this case, other experiments are interpreted as different units, but same trials as\n",
    "        #other units. Not all experiments have same units, and not same stimuli, so...later.\n",
    "        try:\n",
    "            f = h5py.File('allexp.hdf5', 'w-')\n",
    "        except OSError:\n",
    "            print('file already exists, type \"continue\" to overwrite \\n')\n",
    "            if input() == 'continue':\n",
    "                f = h5py.File('allexp.hdf5', 'w')\n",
    "                \n",
    "        #filename denotes a list of files in this case\n",
    "        for file in filename:\n",
    "            #finish later, or probably not\n",
    "            pass\n",
    "    else:\n",
    "        #just load data from specified file\n",
    "        f = h5py.File(filename+'.hdf5', 'r')\n",
    "        g = h5py.File(filename[:-6]+\"roi.hdf5\", \"r\")\n",
    "        motion_mask = (g['inFrameDend'][:].astype(bool)).reshape(g['inFrameDend'].shape[0])\n",
    "        \n",
    "        data = f['data'][:, motion_mask, :]\n",
    "        meta = f['meta']\n",
    "    \n",
    "    if time == 'full':\n",
    "        #keep all times\n",
    "        data_pass = data[:]\n",
    "        if smooth:\n",
    "            #if we smoothen the data\n",
    "            data_pass = smoothen(filename)[:,motion_mask,:]\n",
    "        meta_pass = meta[:]\n",
    "        \n",
    "    if time == 'windowed':\n",
    "        #get window-averaged\n",
    "        meta_pass = meta[:]\n",
    "        data_pass = np.zeros((data.shape[0], data.shape[1]))\n",
    "        \n",
    "        stims = np.unique(meta[:,1])\n",
    "        for i, amp in enumerate(stims):\n",
    "            amp_mask = meta[:,1] == amp\n",
    "            data_pass[amp_mask] = np.mean(data[amp_mask,:,windows[i,0], windows[i,1]], axis=2)\n",
    "            \n",
    "    if z_score:\n",
    "        #z_score signal\n",
    "        mns = np.mean(data_pass, axis=0)\n",
    "        try:\n",
    "        #specify exception\n",
    "            mns = np.mean(mns, axis=1)\n",
    "        except:\n",
    "            print('Exception triggered')\n",
    "        stds = np.std(data_pass, axis=0)\n",
    "        try:\n",
    "            stds = np.std(stds, axis=1)\n",
    "        except:\n",
    "            print('Exception triggered')\n",
    "            \n",
    "        mns = np.transpose(np.tile(mns, (data.shape[0], data.shape[2], 1)), axes=[0,2,1])\n",
    "        stds = np.transpose(np.tile(stds, (data.shape[0], data.shape[2], 1)), axes=[0,2,1])\n",
    "        \n",
    "        data_pass = data_pass - mns\n",
    "        data_pass = data_pass/stds\n",
    "            \n",
    "    #possibly add functionality for subtracting mean, but not dividing by std.\n",
    "    return meta_pass, data_pass"
   ]
  },
  {
   "cell_type": "code",
   "execution_count": 51,
   "metadata": {
    "collapsed": false
   },
   "outputs": [],
   "source": [
    "m, d = preprocessing(filelist[0], time='full', windows=None, z_score=True, smooth=True)"
   ]
  },
  {
   "cell_type": "code",
   "execution_count": 85,
   "metadata": {
    "collapsed": false
   },
   "outputs": [
    {
     "data": {
      "text/plain": [
       "8.3036033128852296"
      ]
     },
     "execution_count": 85,
     "metadata": {},
     "output_type": "execute_result"
    },
    {
     "data": {
      "image/png": "[encoded data removed]",
      "text/plain": [
       "<matplotlib.figure.Figure at 0x7ff88c5af940>"
      ]
     },
     "metadata": {},
     "output_type": "display_data"
    }
   ],
   "source": [
    "plt.plot(np.mean(d[:,106,:], axis=0))\n",
    "plt.plot(np.mean(d[:,100,:], axis=0))\n",
    "np.std(d[:,107,:])"
   ]
  },
  {
   "cell_type": "code",
   "execution_count": 56,
   "metadata": {
    "collapsed": false
   },
   "outputs": [],
   "source": [
    "def get_betas(data):\n",
    "    n_trials = data.shape[0]\n",
    "    n_units = data.shape[1]\n",
    "    n_times = data.shape[2]\n",
    "    \n",
    "    F_i = np.ones((3, n_trials))\n",
    "    \n",
    "    #tensor math more efficient?\n",
    "    beta = np.zeros((n_units, n_times, n_trials))\n",
    "    F_fac = np.dot(np.linalg.inv(np.dot(F_i, F_i.T)), F_i)\n",
    "    \n",
    "    for i in range(n_units):\n",
    "        for t in range(n_times):\n",
    "            r_it = data[:,i,t]\n",
    "            beta[i, t, :] = np.dot(F_fac, r_it)\n",
    "            \n",
    "    return beta"
   ]
  },
  {
   "cell_type": "code",
   "execution_count": null,
   "metadata": {
    "collapsed": true
   },
   "outputs": [],
   "source": [
    "def get_population_response(meta, data):\n",
    "    n_units = data.shape[1]\n",
    "    n_trials = data.shape[0]\n",
    "    \n",
    "    outcomes = np.zeros(n_trials)\n",
    "    for i in range(n_trials):\n",
    "        if meta[i,1] == 0 and meta[i,2] == 0:\n",
    "            outcomes[i] = 1\n",
    "        else:\n",
    "            outcomes[i] = 0\n",
    "    \n",
    "    conditions = {'hitmiss':meta[:,2], 'stim':meta[:,1], 'outcome':outcomes}\n",
    "    \n",
    "    for condition in conditions.keys():\n",
    "        for i in range(n_units):\n",
    "            vals = np.unique(conditions[condition])\n",
    "            for val in vals:\n",
    "                mask = conditions[condition] == val\n",
    "                x_ct = np.mean(data[mask, i], axis=0)\n"
   ]
  }
 ],
 "metadata": {
  "kernelspec": {
   "display_name": "Python 3",
   "language": "python",
   "name": "python3"
  },
  "language_info": {
   "codemirror_mode": {
    "name": "ipython",
    "version": 3
   },
   "file_extension": ".py",
   "mimetype": "text/x-python",
   "name": "python",
   "nbconvert_exporter": "python",
   "pygments_lexer": "ipython3",
   "version": "3.6.0"
  }
 },
 "nbformat": 4,
 "nbformat_minor": 2
}
