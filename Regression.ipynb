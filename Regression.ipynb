{
 "cells": [
  {
   "cell_type": "code",
   "execution_count": 1,
   "metadata": {
    "collapsed": true
   },
   "outputs": [],
   "source": [
    "from scipy.io import loadmat\n",
    "import h5py\n",
    "import numpy as np\n",
    "import matplotlib.pyplot as plt\n",
    "from sklearn.metrics import auc\n",
    "from sklearn.metrics import roc_curve\n",
    "from sklearn.metrics import roc_auc_score\n",
    "from sklearn import svm\n",
    "from sklearn.model_selection import train_test_split\n",
    "from sklearn.model_selection import cross_val_score\n",
    "\n",
    "\n",
    "%matplotlib inline"
   ]
  },
  {
   "cell_type": "code",
   "execution_count": 2,
   "metadata": {
    "collapsed": true
   },
   "outputs": [],
   "source": [
    "filelist = [\"calcium_data/140708B_140811a_result\", \n",
    "            \"calcium_data/140909C_141112a_result\", \n",
    "            \"calcium_data/141006C_141121a_result\",\n",
    "            \"calcium_data/150109A_150302a_result\", \n",
    "            \"calcium_data/151122A_160202a_result\", \n",
    "            \"calcium_data/151122B_160207a_result\", \n",
    "            \"calcium_data/160209A_160430a_result\", \n",
    "            \"calcium_data/160209B_160428a_result\"]"
   ]
  },
  {
   "cell_type": "markdown",
   "metadata": {},
   "source": [
    "experiemntal parameters:\n",
    "\n",
    "v(0): hit/miss, +1 for hit, -1 for miss\n",
    "\n",
    "v(1): stimulus intensity\n",
    "\n",
    "v(2): rest of variance"
   ]
  },
  {
   "cell_type": "code",
   "execution_count": 6,
   "metadata": {
    "collapsed": true
   },
   "outputs": [],
   "source": [
    "def preprocessing(filename, time='full', windows=None, z_score=False):\n",
    "    '''\n",
    "    Preprocesses the data according to specified parameters\n",
    "    \n",
    "    filename: string, specifies file to use. If None, concatenate all files\n",
    "    time: string\n",
    "        'full' - use full time series of the dendritic Ca2+ signal\n",
    "        'windowed' - use only one point per dendrite, averaged over specified window\n",
    "    windows: ndarray, 7x2 or n_filesx7x2. \n",
    "        Required in windowed mode. Array holds start- and stop times for each stimulus.\n",
    "    z_score: bool, whether to z-score the data. \n",
    "    '''\n",
    "    \n",
    "    assert(not(time=='windowed') or not(windows == None))\n",
    "    \n",
    "    #get the data we need into the format we need\n",
    "    if type(filename) == list:\n",
    "        #create concatenated data\n",
    "        pass\n",
    "    else:\n",
    "        pass\n",
    "    \n",
    "    if time == 'full':\n",
    "        #keep all times\n",
    "        pass\n",
    "    if time == 'windowed':\n",
    "        #get window-averaged\n",
    "        pass\n",
    "    \n",
    "    if z_score:\n",
    "        #z_score signal\n",
    "        pass"
   ]
  },
  {
   "cell_type": "code",
   "execution_count": 5,
   "metadata": {
    "collapsed": false
   },
   "outputs": [
    {
     "data": {
      "text/plain": [
       "str"
      ]
     },
     "execution_count": 5,
     "metadata": {},
     "output_type": "execute_result"
    }
   ],
   "source": []
  },
  {
   "cell_type": "code",
   "execution_count": null,
   "metadata": {
    "collapsed": true
   },
   "outputs": [],
   "source": []
  }
 ],
 "metadata": {
  "kernelspec": {
   "display_name": "Python 3",
   "language": "python",
   "name": "python3"
  },
  "language_info": {
   "codemirror_mode": {
    "name": "ipython",
    "version": 3
   },
   "file_extension": ".py",
   "mimetype": "text/x-python",
   "name": "python",
   "nbconvert_exporter": "python",
   "pygments_lexer": "ipython3",
   "version": "3.6.0"
  }
 },
 "nbformat": 4,
 "nbformat_minor": 2
}
